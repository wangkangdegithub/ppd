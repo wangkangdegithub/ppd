{
 "cells": [
  {
   "cell_type": "code",
   "execution_count": null,
   "metadata": {
    "collapsed": false
   },
   "outputs": [],
   "source": [
    "# -*- coding:utf-8 -*-  \n",
    "import numpy as np\n",
    "import pandas as pd\n",
    "from pandas import Series,DataFrame"
   ]
  },
  {
   "cell_type": "code",
   "execution_count": 2,
   "metadata": {
    "collapsed": false
   },
   "outputs": [],
   "source": [
    "data1=pd.read_csv('E:/kaggle数据/PPD/Training Set/PPD_LogInfo_3_1_Training_Set.csv')\n",
    "data2=pd.read_csv('E:/kaggle数据/PPD/Training Set/PPD_Training_Master_GBK_3_1_Training_Set.csv',encoding='gb18030')\n",
    "data3=pd.read_csv('E:/kaggle数据/PPD/Training Set/PPD_Userupdate_Info_3_1_Training_Set.csv')"
   ]
  },
  {
   "cell_type": "code",
   "execution_count": 3,
   "metadata": {
    "collapsed": false
   },
   "outputs": [
    {
     "data": {
      "text/html": [
       "<div>\n",
       "<table border=\"1\" class=\"dataframe\">\n",
       "  <thead>\n",
       "    <tr style=\"text-align: right;\">\n",
       "      <th></th>\n",
       "      <th>Idx</th>\n",
       "      <th>Listinginfo1</th>\n",
       "      <th>LogInfo1</th>\n",
       "      <th>LogInfo2</th>\n",
       "      <th>LogInfo3</th>\n",
       "    </tr>\n",
       "  </thead>\n",
       "  <tbody>\n",
       "    <tr>\n",
       "      <th>0</th>\n",
       "      <td>10001</td>\n",
       "      <td>2014-03-05</td>\n",
       "      <td>107</td>\n",
       "      <td>6</td>\n",
       "      <td>2014-02-20</td>\n",
       "    </tr>\n",
       "    <tr>\n",
       "      <th>1</th>\n",
       "      <td>10001</td>\n",
       "      <td>2014-03-05</td>\n",
       "      <td>107</td>\n",
       "      <td>6</td>\n",
       "      <td>2014-02-23</td>\n",
       "    </tr>\n",
       "    <tr>\n",
       "      <th>2</th>\n",
       "      <td>10001</td>\n",
       "      <td>2014-03-05</td>\n",
       "      <td>107</td>\n",
       "      <td>6</td>\n",
       "      <td>2014-02-24</td>\n",
       "    </tr>\n",
       "    <tr>\n",
       "      <th>3</th>\n",
       "      <td>10001</td>\n",
       "      <td>2014-03-05</td>\n",
       "      <td>107</td>\n",
       "      <td>6</td>\n",
       "      <td>2014-02-25</td>\n",
       "    </tr>\n",
       "    <tr>\n",
       "      <th>4</th>\n",
       "      <td>10001</td>\n",
       "      <td>2014-03-05</td>\n",
       "      <td>107</td>\n",
       "      <td>6</td>\n",
       "      <td>2014-02-27</td>\n",
       "    </tr>\n",
       "  </tbody>\n",
       "</table>\n",
       "</div>"
      ],
      "text/plain": [
       "     Idx Listinginfo1  LogInfo1  LogInfo2    LogInfo3\n",
       "0  10001   2014-03-05       107         6  2014-02-20\n",
       "1  10001   2014-03-05       107         6  2014-02-23\n",
       "2  10001   2014-03-05       107         6  2014-02-24\n",
       "3  10001   2014-03-05       107         6  2014-02-25\n",
       "4  10001   2014-03-05       107         6  2014-02-27"
      ]
     },
     "execution_count": 3,
     "metadata": {},
     "output_type": "execute_result"
    }
   ],
   "source": [
    "data1.head()"
   ]
  },
  {
   "cell_type": "code",
   "execution_count": 4,
   "metadata": {
    "collapsed": false
   },
   "outputs": [
    {
     "data": {
      "text/html": [
       "<div>\n",
       "<table border=\"1\" class=\"dataframe\">\n",
       "  <thead>\n",
       "    <tr style=\"text-align: right;\">\n",
       "      <th></th>\n",
       "      <th>Idx</th>\n",
       "      <th>UserInfo_1</th>\n",
       "      <th>UserInfo_2</th>\n",
       "      <th>UserInfo_3</th>\n",
       "      <th>UserInfo_4</th>\n",
       "      <th>WeblogInfo_1</th>\n",
       "      <th>WeblogInfo_2</th>\n",
       "      <th>WeblogInfo_3</th>\n",
       "      <th>WeblogInfo_4</th>\n",
       "      <th>WeblogInfo_5</th>\n",
       "      <th>...</th>\n",
       "      <th>SocialNetwork_10</th>\n",
       "      <th>SocialNetwork_11</th>\n",
       "      <th>SocialNetwork_12</th>\n",
       "      <th>SocialNetwork_13</th>\n",
       "      <th>SocialNetwork_14</th>\n",
       "      <th>SocialNetwork_15</th>\n",
       "      <th>SocialNetwork_16</th>\n",
       "      <th>SocialNetwork_17</th>\n",
       "      <th>target</th>\n",
       "      <th>ListingInfo</th>\n",
       "    </tr>\n",
       "  </thead>\n",
       "  <tbody>\n",
       "    <tr>\n",
       "      <th>0</th>\n",
       "      <td>10001</td>\n",
       "      <td>1.0</td>\n",
       "      <td>深圳</td>\n",
       "      <td>4.0</td>\n",
       "      <td>深圳</td>\n",
       "      <td>NaN</td>\n",
       "      <td>1.0</td>\n",
       "      <td>NaN</td>\n",
       "      <td>1.0</td>\n",
       "      <td>1.0</td>\n",
       "      <td>...</td>\n",
       "      <td>222</td>\n",
       "      <td>-1</td>\n",
       "      <td>0</td>\n",
       "      <td>0</td>\n",
       "      <td>0</td>\n",
       "      <td>0</td>\n",
       "      <td>0</td>\n",
       "      <td>1</td>\n",
       "      <td>0</td>\n",
       "      <td>2014/3/5</td>\n",
       "    </tr>\n",
       "    <tr>\n",
       "      <th>1</th>\n",
       "      <td>10002</td>\n",
       "      <td>1.0</td>\n",
       "      <td>温州</td>\n",
       "      <td>4.0</td>\n",
       "      <td>温州</td>\n",
       "      <td>NaN</td>\n",
       "      <td>0.0</td>\n",
       "      <td>NaN</td>\n",
       "      <td>1.0</td>\n",
       "      <td>1.0</td>\n",
       "      <td>...</td>\n",
       "      <td>1</td>\n",
       "      <td>-1</td>\n",
       "      <td>0</td>\n",
       "      <td>0</td>\n",
       "      <td>0</td>\n",
       "      <td>0</td>\n",
       "      <td>0</td>\n",
       "      <td>2</td>\n",
       "      <td>0</td>\n",
       "      <td>2014/2/26</td>\n",
       "    </tr>\n",
       "    <tr>\n",
       "      <th>2</th>\n",
       "      <td>10003</td>\n",
       "      <td>1.0</td>\n",
       "      <td>宜昌</td>\n",
       "      <td>3.0</td>\n",
       "      <td>宜昌</td>\n",
       "      <td>NaN</td>\n",
       "      <td>0.0</td>\n",
       "      <td>NaN</td>\n",
       "      <td>2.0</td>\n",
       "      <td>2.0</td>\n",
       "      <td>...</td>\n",
       "      <td>-1</td>\n",
       "      <td>-1</td>\n",
       "      <td>-1</td>\n",
       "      <td>1</td>\n",
       "      <td>0</td>\n",
       "      <td>0</td>\n",
       "      <td>0</td>\n",
       "      <td>0</td>\n",
       "      <td>0</td>\n",
       "      <td>2014/2/28</td>\n",
       "    </tr>\n",
       "    <tr>\n",
       "      <th>3</th>\n",
       "      <td>10006</td>\n",
       "      <td>4.0</td>\n",
       "      <td>南平</td>\n",
       "      <td>1.0</td>\n",
       "      <td>南平</td>\n",
       "      <td>NaN</td>\n",
       "      <td>NaN</td>\n",
       "      <td>NaN</td>\n",
       "      <td>NaN</td>\n",
       "      <td>NaN</td>\n",
       "      <td>...</td>\n",
       "      <td>-1</td>\n",
       "      <td>-1</td>\n",
       "      <td>-1</td>\n",
       "      <td>0</td>\n",
       "      <td>0</td>\n",
       "      <td>0</td>\n",
       "      <td>0</td>\n",
       "      <td>0</td>\n",
       "      <td>0</td>\n",
       "      <td>2014/2/25</td>\n",
       "    </tr>\n",
       "    <tr>\n",
       "      <th>4</th>\n",
       "      <td>10007</td>\n",
       "      <td>5.0</td>\n",
       "      <td>辽阳</td>\n",
       "      <td>1.0</td>\n",
       "      <td>辽阳</td>\n",
       "      <td>NaN</td>\n",
       "      <td>0.0</td>\n",
       "      <td>NaN</td>\n",
       "      <td>1.0</td>\n",
       "      <td>1.0</td>\n",
       "      <td>...</td>\n",
       "      <td>-1</td>\n",
       "      <td>-1</td>\n",
       "      <td>-1</td>\n",
       "      <td>0</td>\n",
       "      <td>0</td>\n",
       "      <td>0</td>\n",
       "      <td>0</td>\n",
       "      <td>0</td>\n",
       "      <td>0</td>\n",
       "      <td>2014/2/27</td>\n",
       "    </tr>\n",
       "  </tbody>\n",
       "</table>\n",
       "<p>5 rows × 228 columns</p>\n",
       "</div>"
      ],
      "text/plain": [
       "     Idx  UserInfo_1 UserInfo_2  UserInfo_3 UserInfo_4  WeblogInfo_1  \\\n",
       "0  10001         1.0         深圳         4.0         深圳           NaN   \n",
       "1  10002         1.0         温州         4.0         温州           NaN   \n",
       "2  10003         1.0         宜昌         3.0         宜昌           NaN   \n",
       "3  10006         4.0         南平         1.0         南平           NaN   \n",
       "4  10007         5.0         辽阳         1.0         辽阳           NaN   \n",
       "\n",
       "   WeblogInfo_2  WeblogInfo_3  WeblogInfo_4  WeblogInfo_5     ...       \\\n",
       "0           1.0           NaN           1.0           1.0     ...        \n",
       "1           0.0           NaN           1.0           1.0     ...        \n",
       "2           0.0           NaN           2.0           2.0     ...        \n",
       "3           NaN           NaN           NaN           NaN     ...        \n",
       "4           0.0           NaN           1.0           1.0     ...        \n",
       "\n",
       "   SocialNetwork_10  SocialNetwork_11  SocialNetwork_12  SocialNetwork_13  \\\n",
       "0               222                -1                 0                 0   \n",
       "1                 1                -1                 0                 0   \n",
       "2                -1                -1                -1                 1   \n",
       "3                -1                -1                -1                 0   \n",
       "4                -1                -1                -1                 0   \n",
       "\n",
       "   SocialNetwork_14  SocialNetwork_15  SocialNetwork_16  SocialNetwork_17  \\\n",
       "0                 0                 0                 0                 1   \n",
       "1                 0                 0                 0                 2   \n",
       "2                 0                 0                 0                 0   \n",
       "3                 0                 0                 0                 0   \n",
       "4                 0                 0                 0                 0   \n",
       "\n",
       "   target  ListingInfo  \n",
       "0       0     2014/3/5  \n",
       "1       0    2014/2/26  \n",
       "2       0    2014/2/28  \n",
       "3       0    2014/2/25  \n",
       "4       0    2014/2/27  \n",
       "\n",
       "[5 rows x 228 columns]"
      ]
     },
     "execution_count": 4,
     "metadata": {},
     "output_type": "execute_result"
    }
   ],
   "source": [
    "data2.head()"
   ]
  },
  {
   "cell_type": "code",
   "execution_count": 5,
   "metadata": {
    "collapsed": false
   },
   "outputs": [
    {
     "data": {
      "text/html": [
       "<div>\n",
       "<table border=\"1\" class=\"dataframe\">\n",
       "  <thead>\n",
       "    <tr style=\"text-align: right;\">\n",
       "      <th></th>\n",
       "      <th>Idx</th>\n",
       "      <th>ListingInfo1</th>\n",
       "      <th>UserupdateInfo1</th>\n",
       "      <th>UserupdateInfo2</th>\n",
       "    </tr>\n",
       "  </thead>\n",
       "  <tbody>\n",
       "    <tr>\n",
       "      <th>0</th>\n",
       "      <td>10001</td>\n",
       "      <td>2014/03/05</td>\n",
       "      <td>_EducationId</td>\n",
       "      <td>2014/02/20</td>\n",
       "    </tr>\n",
       "    <tr>\n",
       "      <th>1</th>\n",
       "      <td>10001</td>\n",
       "      <td>2014/03/05</td>\n",
       "      <td>_HasBuyCar</td>\n",
       "      <td>2014/02/20</td>\n",
       "    </tr>\n",
       "    <tr>\n",
       "      <th>2</th>\n",
       "      <td>10001</td>\n",
       "      <td>2014/03/05</td>\n",
       "      <td>_LastUpdateDate</td>\n",
       "      <td>2014/02/20</td>\n",
       "    </tr>\n",
       "    <tr>\n",
       "      <th>3</th>\n",
       "      <td>10001</td>\n",
       "      <td>2014/03/05</td>\n",
       "      <td>_MarriageStatusId</td>\n",
       "      <td>2014/02/20</td>\n",
       "    </tr>\n",
       "    <tr>\n",
       "      <th>4</th>\n",
       "      <td>10001</td>\n",
       "      <td>2014/03/05</td>\n",
       "      <td>_MobilePhone</td>\n",
       "      <td>2014/02/20</td>\n",
       "    </tr>\n",
       "  </tbody>\n",
       "</table>\n",
       "</div>"
      ],
      "text/plain": [
       "     Idx ListingInfo1    UserupdateInfo1 UserupdateInfo2\n",
       "0  10001   2014/03/05       _EducationId      2014/02/20\n",
       "1  10001   2014/03/05         _HasBuyCar      2014/02/20\n",
       "2  10001   2014/03/05    _LastUpdateDate      2014/02/20\n",
       "3  10001   2014/03/05  _MarriageStatusId      2014/02/20\n",
       "4  10001   2014/03/05       _MobilePhone      2014/02/20"
      ]
     },
     "execution_count": 5,
     "metadata": {},
     "output_type": "execute_result"
    }
   ],
   "source": [
    "data3.head()"
   ]
  },
  {
   "cell_type": "code",
   "execution_count": 6,
   "metadata": {
    "collapsed": false
   },
   "outputs": [
    {
     "data": {
      "text/plain": [
       "Idx             0\n",
       "Listinginfo1    0\n",
       "LogInfo1        0\n",
       "LogInfo2        0\n",
       "LogInfo3        0\n",
       "dtype: int64"
      ]
     },
     "execution_count": 6,
     "metadata": {},
     "output_type": "execute_result"
    }
   ],
   "source": [
    "data1.isnull().sum()"
   ]
  },
  {
   "cell_type": "code",
   "execution_count": 7,
   "metadata": {
    "collapsed": false,
    "scrolled": true
   },
   "outputs": [
    {
     "data": {
      "text/plain": [
       "WeblogInfo_1       29030\n",
       "WeblogInfo_3       29030\n",
       "UserInfo_12        18909\n",
       "UserInfo_11        18909\n",
       "UserInfo_13        18909\n",
       "WeblogInfo_20       8050\n",
       "WeblogInfo_21       3074\n",
       "WeblogInfo_19       2963\n",
       "WeblogInfo_2        1658\n",
       "WeblogInfo_6        1651\n",
       "WeblogInfo_4        1651\n",
       "WeblogInfo_5        1651\n",
       "UserInfo_2           302\n",
       "UserInfo_4           268\n",
       "WeblogInfo_24        253\n",
       "WeblogInfo_23        253\n",
       "WeblogInfo_25        253\n",
       "WeblogInfo_44        253\n",
       "WeblogInfo_45        253\n",
       "WeblogInfo_26        253\n",
       "WeblogInfo_46        253\n",
       "WeblogInfo_47        253\n",
       "WeblogInfo_43        253\n",
       "WeblogInfo_31        253\n",
       "WeblogInfo_27        253\n",
       "WeblogInfo_28        253\n",
       "WeblogInfo_29        253\n",
       "WeblogInfo_30        253\n",
       "WeblogInfo_49        253\n",
       "WeblogInfo_32        253\n",
       "                   ...  \n",
       "WeblogInfo_51          0\n",
       "WeblogInfo_52          0\n",
       "WeblogInfo_53          0\n",
       "WeblogInfo_58          0\n",
       "ListingInfo            0\n",
       "target                 0\n",
       "WeblogInfo_15          0\n",
       "UserInfo_8             0\n",
       "UserInfo_7             0\n",
       "UserInfo_6             0\n",
       "UserInfo_5             0\n",
       "WeblogInfo_18          0\n",
       "WeblogInfo_17          0\n",
       "WeblogInfo_16          0\n",
       "WeblogInfo_14          0\n",
       "UserInfo_10            0\n",
       "WeblogInfo_13          0\n",
       "WeblogInfo_12          0\n",
       "WeblogInfo_11          0\n",
       "WeblogInfo_10          0\n",
       "WeblogInfo_9           0\n",
       "WeblogInfo_8           0\n",
       "WeblogInfo_7           0\n",
       "UserInfo_9             0\n",
       "UserInfo_14            0\n",
       "Education_Info8        0\n",
       "UserInfo_24            0\n",
       "Education_Info7        0\n",
       "Education_Info6        0\n",
       "Education_Info5        0\n",
       "dtype: int64"
      ]
     },
     "execution_count": 7,
     "metadata": {},
     "output_type": "execute_result"
    }
   ],
   "source": [
    "data2.isnull().sum().sort_values(ascending=False).head(100)"
   ]
  },
  {
   "cell_type": "code",
   "execution_count": 8,
   "metadata": {
    "collapsed": false
   },
   "outputs": [
    {
     "data": {
      "text/plain": [
       "Idx                0\n",
       "ListingInfo1       0\n",
       "UserupdateInfo1    0\n",
       "UserupdateInfo2    0\n",
       "dtype: int64"
      ]
     },
     "execution_count": 8,
     "metadata": {},
     "output_type": "execute_result"
    }
   ],
   "source": [
    "data3.isnull().sum()"
   ]
  },
  {
   "cell_type": "code",
   "execution_count": 9,
   "metadata": {
    "collapsed": false
   },
   "outputs": [],
   "source": [
    "data2=data2.drop(['WeblogInfo_1','WeblogInfo_3'],axis=1)"
   ]
  },
  {
   "cell_type": "code",
   "execution_count": 10,
   "metadata": {
    "collapsed": false
   },
   "outputs": [],
   "source": [
    "#查看data2 中UserInfo_11——UserInfo_13中数值类型，缺失值   以新类型 ‘-1’ 补全\n",
    "data2.dtypes\n",
    "data2.UserInfo_11.value_counts()\n",
    "data2.UserInfo_12.value_counts()\n",
    "data2.UserInfo_13.value_counts()\n",
    "data2.UserInfo_11=data2.UserInfo_11.fillna('-1.0')\n",
    "data2.UserInfo_12=data2.UserInfo_12.fillna('-1.0')\n",
    "data2.UserInfo_13=data2.UserInfo_13.fillna('-1.0')\n",
    "\n",
    "#查看data2 中UserInfo_2/UserInfo_4缺失值用 ‘不详’ 补全\n",
    "data2.UserInfo_4=data2.UserInfo_4.fillna('不详')\n",
    "data2.UserInfo_2=data2.UserInfo_2.fillna('不详')\n",
    "\n",
    "#查看data2 中UserInfo_1/UserInfo_3缺失值以 众数 补全\n",
    "data2.UserInfo_1=data2.UserInfo_1.fillna(data2.UserInfo_1.mode()[0])\n",
    "data2.UserInfo_3=data2.UserInfo_3.fillna(data2.UserInfo_1.mode()[0])\n",
    "\n",
    "#观察data2 发现所有缺失值都是数值型，所以全以 众数 补全\n",
    "data2 = data2.fillna(data2.mode().T[0])"
   ]
  },
  {
   "cell_type": "code",
   "execution_count": 11,
   "metadata": {
    "collapsed": false
   },
   "outputs": [
    {
     "data": {
      "text/plain": [
       "ListingInfo                   0\n",
       "WeblogInfo_27                 0\n",
       "WeblogInfo_53                 0\n",
       "WeblogInfo_52                 0\n",
       "WeblogInfo_51                 0\n",
       "WeblogInfo_50                 0\n",
       "WeblogInfo_49                 0\n",
       "WeblogInfo_48                 0\n",
       "WeblogInfo_47                 0\n",
       "WeblogInfo_46                 0\n",
       "WeblogInfo_45                 0\n",
       "WeblogInfo_44                 0\n",
       "WeblogInfo_43                 0\n",
       "WeblogInfo_42                 0\n",
       "WeblogInfo_41                 0\n",
       "WeblogInfo_40                 0\n",
       "WeblogInfo_39                 0\n",
       "WeblogInfo_38                 0\n",
       "WeblogInfo_37                 0\n",
       "WeblogInfo_36                 0\n",
       "WeblogInfo_35                 0\n",
       "WeblogInfo_34                 0\n",
       "WeblogInfo_33                 0\n",
       "WeblogInfo_32                 0\n",
       "WeblogInfo_31                 0\n",
       "WeblogInfo_30                 0\n",
       "WeblogInfo_29                 0\n",
       "WeblogInfo_54                 0\n",
       "WeblogInfo_55                 0\n",
       "WeblogInfo_56                 0\n",
       "                             ..\n",
       "ThirdParty_Info_Period2_11    0\n",
       "ThirdParty_Info_Period4_1     0\n",
       "ThirdParty_Info_Period4_3     0\n",
       "ThirdParty_Info_Period5_12    0\n",
       "ThirdParty_Info_Period4_17    0\n",
       "ThirdParty_Info_Period5_11    0\n",
       "ThirdParty_Info_Period5_10    0\n",
       "ThirdParty_Info_Period5_9     0\n",
       "ThirdParty_Info_Period5_8     0\n",
       "ThirdParty_Info_Period5_7     0\n",
       "ThirdParty_Info_Period5_6     0\n",
       "ThirdParty_Info_Period5_5     0\n",
       "ThirdParty_Info_Period5_4     0\n",
       "ThirdParty_Info_Period5_3     0\n",
       "ThirdParty_Info_Period5_2     0\n",
       "ThirdParty_Info_Period5_1     0\n",
       "ThirdParty_Info_Period4_16    0\n",
       "ThirdParty_Info_Period4_4     0\n",
       "ThirdParty_Info_Period4_15    0\n",
       "ThirdParty_Info_Period4_14    0\n",
       "ThirdParty_Info_Period4_13    0\n",
       "ThirdParty_Info_Period4_12    0\n",
       "ThirdParty_Info_Period4_11    0\n",
       "ThirdParty_Info_Period4_10    0\n",
       "ThirdParty_Info_Period4_9     0\n",
       "ThirdParty_Info_Period4_8     0\n",
       "ThirdParty_Info_Period4_7     0\n",
       "ThirdParty_Info_Period4_6     0\n",
       "ThirdParty_Info_Period4_5     0\n",
       "Idx                           0\n",
       "dtype: int64"
      ]
     },
     "execution_count": 11,
     "metadata": {},
     "output_type": "execute_result"
    }
   ],
   "source": [
    "#观察确认 data2中缺失值情况\n",
    "data2.isnull().sum().sort_values(ascending=False)"
   ]
  },
  {
   "cell_type": "code",
   "execution_count": 12,
   "metadata": {
    "collapsed": false
   },
   "outputs": [
    {
     "data": {
      "text/plain": [
       "0    27802\n",
       "1     2198\n",
       "Name: target, dtype: int64"
      ]
     },
     "execution_count": 12,
     "metadata": {},
     "output_type": "execute_result"
    }
   ],
   "source": [
    "#观察data2中违约人数的分布target,发现这是一个样本不平衡问题\n",
    "data2.target.value_counts()"
   ]
  },
  {
   "cell_type": "code",
   "execution_count": 13,
   "metadata": {
    "collapsed": false
   },
   "outputs": [
    {
     "data": {
      "text/plain": [
       "\"\\n#(待完善)\\n#统计data2 每一行的缺失值个数,按Idx,Null_Count排列\\n#x = []\\ny = []\\nfor i in range(0,len(data2)):\\n    x.append(i)\\n    y.append(data2.loc[i,:].isnull().sum())\\ndx = pd.Series(x)\\nNull_Count = pd.Series(y)\\ncc=DataFrame({'Idx':Idx,'Null_count':Null_count})\\n\""
      ]
     },
     "execution_count": 13,
     "metadata": {},
     "output_type": "execute_result"
    }
   ],
   "source": [
    "'''\n",
    "#(待完善)\n",
    "#统计data2 每一行的缺失值个数,按Idx,Null_Count排列\n",
    "#x = []\n",
    "y = []\n",
    "for i in range(0,len(data2)):\n",
    "    x.append(i)\n",
    "    y.append(data2.loc[i,:].isnull().sum())\n",
    "dx = pd.Series(x)\n",
    "Null_Count = pd.Series(y)\n",
    "cc=DataFrame({'Idx':Idx,'Null_count':Null_count})\n",
    "'''"
   ]
  },
  {
   "cell_type": "code",
   "execution_count": 14,
   "metadata": {
    "collapsed": false,
    "scrolled": true
   },
   "outputs": [
    {
     "data": {
      "text/plain": [
       "\"\\n# data2存到本地，用sql增删改查\\ndata2.to_csv('E:/kaggle数据/PPD/Middle1_PPD_LogInfo_3_1_Training_Set.csv')\\n\""
      ]
     },
     "execution_count": 14,
     "metadata": {},
     "output_type": "execute_result"
    }
   ],
   "source": [
    "#data2 中空格符处理\n",
    "data2['UserInfo_9']=data2['UserInfo_9'].str.strip()\n",
    "#城市名处理,去掉'市'字\n",
    "data2.UserInfo_8=data2.UserInfo_8.str.rstrip('市')\n",
    "data2.UserInfo_8=data2.UserInfo_8.str.strip()\n",
    "#省名处理,去掉'省'字，‘市’字\n",
    "data2.UserInfo_19=data2.UserInfo_19.str.rstrip('省')\n",
    "data2.UserInfo_19=data2.UserInfo_19.str.rstrip('市')\n",
    "data2.UserInfo_19=data2.UserInfo_19.str.strip()\n",
    "\n",
    "'''\n",
    "# data2存到本地，用sql增删改查\n",
    "data2.to_csv('E:/kaggle数据/PPD/Middle1_PPD_LogInfo_3_1_Training_Set.csv')\n",
    "'''"
   ]
  },
  {
   "cell_type": "code",
   "execution_count": 15,
   "metadata": {
    "collapsed": false,
    "scrolled": true
   },
   "outputs": [
    {
     "data": {
      "text/plain": [
       "_mobilephone           29921\n",
       "_residencephone        28568\n",
       "_residenceyears        28441\n",
       "_residencetypeid       28381\n",
       "_educationid           28210\n",
       "_hasbuycar             28127\n",
       "_marriagestatusid      27904\n",
       "_qq                    27078\n",
       "_residenceaddress      26759\n",
       "_lastupdatedate        23129\n",
       "_districtid            20215\n",
       "_cityid                19968\n",
       "_provinceid            19858\n",
       "_realname              10322\n",
       "_idnumber               7183\n",
       "_phone                  3707\n",
       "_relationshipid         2142\n",
       "_turnover               1324\n",
       "_companyphone           1284\n",
       "_companyname            1052\n",
       "_regstepid              1025\n",
       "_age                    1003\n",
       "_companyaddress          928\n",
       "_flag_uctobcp            845\n",
       "_flag_uctopvr            710\n",
       "_gender                  656\n",
       "_iscash                  587\n",
       "_department              555\n",
       "_workyears               511\n",
       "_byuserid                368\n",
       "_companytypeid           365\n",
       "_bussinessaddress        311\n",
       "_hasbusinesslicense      236\n",
       "_incomefrom              222\n",
       "_position                170\n",
       "_companysizeid            99\n",
       "_hassborgjj               91\n",
       "_creationdate             37\n",
       "_webshopurl               35\n",
       "_nickname                 29\n",
       "_dormitoryphone           29\n",
       "_schoolname               18\n",
       "_userid                   16\n",
       "_contactid                16\n",
       "_orderid                   8\n",
       "_webshoptypeid             7\n",
       "_otherwebshoptype          2\n",
       "_idaddress                 2\n",
       "_graduatedate              2\n",
       "_graduateschool            2\n",
       "_secondmobile              1\n",
       "_hasppdaiaccount           1\n",
       "_phonetype                 1\n",
       "_secondemail               1\n",
       "_ppdaiaccount              1\n",
       "Name: UserupdateInfo1, dtype: int64"
      ]
     },
     "execution_count": 15,
     "metadata": {},
     "output_type": "execute_result"
    }
   ],
   "source": [
    "#data3中字符大小写处理  大写转为小写\n",
    "data3.UserupdateInfo1=data3.UserupdateInfo1.str.lower()\n",
    "data3.UserupdateInfo1.value_counts()"
   ]
  },
  {
   "cell_type": "code",
   "execution_count": 16,
   "metadata": {
    "collapsed": true
   },
   "outputs": [],
   "source": [
    "# ↓↓↓↓↓↓↓特征工程处理↓↓↓↓↓↓↓"
   ]
  },
  {
   "cell_type": "code",
   "execution_count": 17,
   "metadata": {
    "collapsed": true
   },
   "outputs": [],
   "source": [
    "#观察违约率和省份之间关系，降低UserInfo_7/UserInfo_19的二值特征的维度,取违约率为前六的省市\n",
    "dummies_UserInfo_7=pd.get_dummies(data2.UserInfo_7,prefix='UserInfo_7')\n",
    "UserInfo_7_cols=['UserInfo_7_山东','UserInfo_7_天津','UserInfo_7_四川','UserInfo_7_湖南','UserInfo_7_海南','UserInfo_7_辽宁']\n",
    "dummies_UserInfo_7=dummies_UserInfo_7.loc[:,UserInfo_7_cols]\n",
    "\n",
    "dummies_UserInfo_19=pd.get_dummies(data2.UserInfo_19,prefix='UserInfo_19')\n",
    "UserInfo_19_cols=['UserInfo_19_天津','UserInfo_19_山东','UserInfo_19_吉林','UserInfo_19_黑龙江','UserInfo_19_辽宁','UserInfo_19_湖南']\n",
    "dummies_UserInfo_19=dummies_UserInfo_19.loc[:,UserInfo_19_cols]"
   ]
  },
  {
   "cell_type": "code",
   "execution_count": 18,
   "metadata": {
    "collapsed": false
   },
   "outputs": [
    {
     "name": "stdout",
     "output_type": "stream",
     "text": [
      "Feature ranking:\n",
      "1. feature 235 (0.048375)\n",
      "2. feature 159 (0.025675)\n",
      "3. feature 339 (0.022543)\n",
      "4. feature 220 (0.022376)\n",
      "5. feature 294 (0.020745)\n",
      "6. feature 25 (0.020006)\n",
      "7. feature 373 (0.013722)\n",
      "8. feature 6 (0.013331)\n",
      "9. feature 129 (0.013034)\n",
      "10. feature 16 (0.012876)\n"
     ]
    },
    {
     "data": {
      "text/plain": [
       "'\\nplt.figure()\\nplt.title(\"Feature importances\")\\nplt.bar(range(10), importances[ans],color=\"r\", yerr=std[ans], align=\"center\")\\nplt.xticks(range(10), ans)\\nplt.xlim([-1, 10])\\nplt.show()\\n'"
      ]
     },
     "execution_count": 18,
     "metadata": {},
     "output_type": "execute_result"
    }
   ],
   "source": [
    "# 把UserInfo_8的城市one-hot后，带来高维灾难，通过计算feature_importances，降低维数。\n",
    "dummies_UserInfo_8=pd.get_dummies(data2.UserInfo_8,prefix='UserInfo_8')\n",
    "X=dummies_UserInfo_8\n",
    "y=data2.target\n",
    "\n",
    "from sklearn.ensemble import RandomForestClassifier\n",
    "import matplotlib.pyplot as plt\n",
    "\n",
    "rfr=RandomForestClassifier()\n",
    "rfr.fit(X,y)\n",
    "importances = rfr.feature_importances_\n",
    "std = np.std([tree.feature_importances_ for tree in rfr.estimators_],axis=0)\n",
    "indices = np.argsort(importances)[::-1]\n",
    "ans = indices[0:10]\n",
    "\n",
    "#取 通过计算feature_importances为前10的特征（把UserInfo_8的城市） 并可视化\n",
    "print(\"Feature ranking:\")\n",
    "for f in range(10):\n",
    "    print(\"%d. feature %d (%f)\" % (f + 1, indices[f], importances[indices[f]]))\n",
    "# draw histogram of feature importances\n",
    "'''\n",
    "plt.figure()\n",
    "plt.title(\"Feature importances\")\n",
    "plt.bar(range(10), importances[ans],color=\"r\", yerr=std[ans], align=\"center\")\n",
    "plt.xticks(range(10), ans)\n",
    "plt.xlim([-1, 10])\n",
    "plt.show()\n",
    "'''"
   ]
  },
  {
   "cell_type": "code",
   "execution_count": 19,
   "metadata": {
    "collapsed": false
   },
   "outputs": [
    {
     "name": "stderr",
     "output_type": "stream",
     "text": [
      "C:\\Users\\Bohemian\\Anaconda3\\lib\\site-packages\\ipykernel\\__main__.py:3: FutureWarning: sort(columns=....) is deprecated, use sort_values(by=.....)\n",
      "  app.launch_new_instance()\n"
     ]
    }
   ],
   "source": [
    "#构建feature_importances dataframe\n",
    "importances_df = DataFrame({'cols':X.columns,'imps':importances})\n",
    "importances_df_top20 = importances_df.sort(columns='imps',ascending=False).head(20)"
   ]
  },
  {
   "cell_type": "code",
   "execution_count": 20,
   "metadata": {
    "collapsed": false
   },
   "outputs": [],
   "source": [
    "#通过观察 取feature_importances在前20的城市作为新的二值特征向量\n",
    "importances_top20_cols=[]\n",
    "for i in importances_df_top20.cols:\n",
    "    importances_top20_cols.append(i)\n",
    "    \n",
    "dummies_UserInfo_8=dummies_UserInfo_8.loc[:,importances_top20_cols]"
   ]
  },
  {
   "cell_type": "code",
   "execution_count": 21,
   "metadata": {
    "collapsed": false
   },
   "outputs": [
    {
     "name": "stdout",
     "output_type": "stream",
     "text": [
      "%d 数据转换成功~\n",
      "%d 数据转换成功~\n",
      "%d 数据转换成功~\n"
     ]
    }
   ],
   "source": [
    "#对于UserInfo_2/4/20 这三个  城市信息字段，把其离散化为一线二线三线城市，同样需要One-hot编码。\n",
    "#首先，对UserInfo_20进行处理，把‘市’字去掉\n",
    "data2.UserInfo_20=data2.UserInfo_20.str.rstrip('市')\n",
    "#可以采取以下转换城市字段的方式：\n",
    "#1.按城市等级划分为1、2、3 线城市 （UserInfo_2）\n",
    "#2.城市特征向量化                （UserInfo_4）\n",
    "#3.地理位置差异特征              （UserInfo_20）\n",
    "city_1=['北京','上海','广州','深圳']\n",
    "city_2=['杭州','南京','济南','重庆','青岛','大连','宁波','厦门','成都','武汉','哈尔滨','沈阳','西安','长春','长沙',\n",
    "        '福州','郑州','石家庄','苏州','佛山','东莞','无锡','烟台','太原','合肥','南昌','昆明','温州','淄博','唐山']\n",
    "city_1_2=['一线城市','二线城市']\n",
    "\n",
    "# step1、转换为一线、二线城市\n",
    "def city_convert(UserInfo):\n",
    "    for i in city_1:\n",
    "        data2.loc[:,UserInfo].replace(i,'一线城市',inplace=True)\n",
    "    for i in city_2:\n",
    "        data2.loc[:,UserInfo].replace(i,'二线城市',inplace=True)\n",
    "\n",
    "UserInfo_city=['UserInfo_2','UserInfo_4','UserInfo_20']\n",
    "for paraments in UserInfo_city:\n",
    "    city_convert(paraments)\n",
    "    print ('%d 数据转换成功~')  \n",
    "      \n",
    "List_UserInfo_2= data2.UserInfo_2.unique().tolist()\n",
    "List_UserInfo_4= data2.UserInfo_4.unique().tolist()\n",
    "List_UserInfo_20= data2.UserInfo_20.unique().tolist()\n",
    "\n",
    "#step2、转换为三线城市\n",
    "UserInfo=['UserInfo_2','UserInfo_4','UserInfo_20']    \n",
    "   \n",
    "def city_convert_three(List_UserInfo):\n",
    "    for i in List_UserInfo:\n",
    "        if i not in city_1_2:\n",
    "            for j in UserInfo:\n",
    "                data2.loc[:,j].replace(i,'三线城市',inplace=True)\n",
    "\n",
    "city_convert_three(List_UserInfo_2)\n",
    "city_convert_three(List_UserInfo_4)\n",
    "city_convert_three(List_UserInfo_20)"
   ]
  },
  {
   "cell_type": "code",
   "execution_count": 22,
   "metadata": {
    "collapsed": false
   },
   "outputs": [
    {
     "data": {
      "text/plain": [
       "三线城市    19079\n",
       "二线城市     7913\n",
       "一线城市     3008\n",
       "Name: UserInfo_4, dtype: int64"
      ]
     },
     "execution_count": 22,
     "metadata": {},
     "output_type": "execute_result"
    }
   ],
   "source": [
    "#分别观察UserInfo_2，UserInfo_4，UserInfo_20 修改后的分布\n",
    "#发现UserInfo_20修改后全为三线城市：说明UserInfo_20不应该这样划分\n",
    "data2.UserInfo_4.value_counts()\n",
    "#待完善"
   ]
  },
  {
   "cell_type": "code",
   "execution_count": 23,
   "metadata": {
    "collapsed": true
   },
   "outputs": [],
   "source": [
    "dummies_UserInfo_2=pd.get_dummies(data2.UserInfo_2,prefix='UserInfo_2')\n",
    "dummies_UserInfo_4=pd.get_dummies(data2.UserInfo_4,prefix='UserInfo_4')\n",
    "dummies_UserInfo_20=pd.get_dummies(data2.UserInfo_20,prefix='UserInfo_20')\n",
    "#由于此前按三线城市对UserInfo_20划分，而UserInfo_20字段中权威三线城市，所以此字段对结果无影响，可以drop()删去"
   ]
  },
  {
   "cell_type": "code",
   "execution_count": 24,
   "metadata": {
    "collapsed": false,
    "scrolled": false
   },
   "outputs": [
    {
     "data": {
      "text/plain": [
       "0     2014/3/5\n",
       "1    2014/2/26\n",
       "2    2014/2/28\n",
       "3    2014/2/25\n",
       "4    2014/2/27\n",
       "Name: ListingInfo, dtype: object"
      ]
     },
     "execution_count": 24,
     "metadata": {},
     "output_type": "execute_result"
    }
   ],
   "source": [
    "data2.ListingInfo.head()"
   ]
  },
  {
   "cell_type": "code",
   "execution_count": 25,
   "metadata": {
    "collapsed": false
   },
   "outputs": [
    {
     "name": "stderr",
     "output_type": "stream",
     "text": [
      "C:\\Users\\Bohemian\\Anaconda3\\lib\\site-packages\\ipykernel\\__main__.py:10: FutureWarning: sort(columns=....) is deprecated, use sort_values(by=.....)\n",
      "C:\\Users\\Bohemian\\Anaconda3\\lib\\site-packages\\ipykernel\\__main__.py:20: FutureWarning: sort(columns=....) is deprecated, use sort_values(by=.....)\n"
     ]
    },
    {
     "data": {
      "text/plain": [
       "\"\\nplt.xlabel('Date(20131101~20141109)')\\nplt.ylabel('count')  \\nplt.show()\\nplt.close()\\n\""
      ]
     },
     "execution_count": 25,
     "metadata": {},
     "output_type": "execute_result"
    }
   ],
   "source": [
    "#观察 ListingInfo（成交时间）与target(是否违约)之间的关系\n",
    "import matplotlib.pyplot as plt\n",
    "from datetime import date   \n",
    "train_1 = data2[data2.target==1]\n",
    "temp = train_1[['ListingInfo'  ,'target']].groupby('ListingInfo').agg('sum')*2\n",
    "temp = temp.rename(columns={'target':'count_1'})\n",
    "temp['date'] = temp.index\n",
    "\n",
    "temp.date = temp.date.apply(lambda x:(date(int(x.split('/')[0]),int(x.split('/')[1]),int(x.split('/')[2]))-date(2013,11,1)).days)\n",
    "temp = temp.sort(columns='date')\n",
    "\n",
    "ax = temp.plot(x='date',y='count_1',title=\"train set\")\n",
    "\n",
    "train_0 = data2[data2.target==0]\n",
    "#train_0.target = [1 for _ in range(len(train_0))]\n",
    "temp_0 = train_0[['ListingInfo','target']].groupby('ListingInfo').agg('count')\n",
    "temp_0 = temp_0.rename(columns={'target':'count_0'})\n",
    "temp_0['date'] = temp_0.index\n",
    "temp_0.date = temp_0.date.apply(lambda x:(date(int(x.split('/')[0]),int(x.split('/')[1]),int(x.split('/')[2]))-date(2013,11,1)).days)\n",
    "temp_0 = temp_0.sort(columns='date')\n",
    "\n",
    "temp_0.plot(x='date',y='count_0',ax=ax)\n",
    "\n",
    "'''\n",
    "plt.xlabel('Date(20131101~20141109)')\n",
    "plt.ylabel('count')  \n",
    "plt.show()\n",
    "plt.close()\n",
    "'''\n",
    "#通过观察 发现违约率与成交时间有关，因此把ListingInfo日期离散化"
   ]
  },
  {
   "cell_type": "code",
   "execution_count": 26,
   "metadata": {
    "collapsed": false,
    "scrolled": true
   },
   "outputs": [
    {
     "data": {
      "text/plain": [
       "ListingInfo\n",
       "2013/11/1      1\n",
       "2013/11/4      1\n",
       "2013/11/5      1\n",
       "2013/11/6      1\n",
       "2013/11/7      1\n",
       "2013/11/8      1\n",
       "2013/11/9      1\n",
       "2013/11/11     2\n",
       "2013/11/12     2\n",
       "2013/11/13     2\n",
       "2013/11/14     2\n",
       "2013/11/15     2\n",
       "2013/11/16     2\n",
       "2013/11/18     2\n",
       "2013/11/19     2\n",
       "2013/11/20     2\n",
       "2013/11/21     3\n",
       "2013/11/22     3\n",
       "2013/11/25     3\n",
       "2013/11/26     3\n",
       "2013/11/28     3\n",
       "2013/11/29     3\n",
       "2013/11/30     3\n",
       "2013/12/2      4\n",
       "2013/12/3      4\n",
       "2013/12/4      4\n",
       "2013/12/5      4\n",
       "2013/12/6      4\n",
       "2013/12/9      4\n",
       "2013/12/10     4\n",
       "              ..\n",
       "2014/10/5     34\n",
       "2014/10/6     34\n",
       "2014/10/7     35\n",
       "2014/10/8     35\n",
       "2014/10/9     35\n",
       "2014/10/10    35\n",
       "2014/10/11    35\n",
       "2014/10/12    35\n",
       "2014/10/13    35\n",
       "2014/10/14    35\n",
       "2014/10/15    35\n",
       "2014/10/16    35\n",
       "2014/10/17    36\n",
       "2014/10/18    36\n",
       "2014/10/20    36\n",
       "2014/10/21    36\n",
       "2014/10/22    36\n",
       "2014/10/23    36\n",
       "2014/10/24    36\n",
       "2014/10/25    36\n",
       "2014/10/26    36\n",
       "2014/10/27    37\n",
       "2014/10/28    37\n",
       "2014/10/29    37\n",
       "2014/10/30    37\n",
       "2014/10/31    37\n",
       "2014/11/1     37\n",
       "2014/11/3     37\n",
       "2014/11/4     37\n",
       "2014/11/5     37\n",
       "Name: date, dtype: category\n",
       "Categories (37, int64): [1 < 2 < 3 < 4 ... 34 < 35 < 36 < 37]"
      ]
     },
     "execution_count": 26,
     "metadata": {},
     "output_type": "execute_result"
    }
   ],
   "source": [
    "#测试****************\n",
    "date=temp.date\n",
    "# 成交日期变为步长为10的离散属性\n",
    "bins=[]\n",
    "for i in range(0,380,10):\n",
    "    bins.append(i)\n",
    "    \n",
    "group_names=[]\n",
    "for i in range(1,len(bins)):\n",
    "    group_names.append(i)\n",
    "discrete_temp_date=pd.cut(date,bins,right=False,labels=group_names)\n",
    "discrete_temp_date"
   ]
  },
  {
   "cell_type": "code",
   "execution_count": 27,
   "metadata": {
    "collapsed": false
   },
   "outputs": [],
   "source": [
    "#新增一个date列，存放交易时间的离散值\n",
    "from datetime import date\n",
    "data2['date'] = data2.ListingInfo.apply(lambda x:(date(int(x.split('/')[0]),int(x.split('/')[1]),int(x.split('/')[2]))-date(2013,11,1)).days)\n",
    "new_date=data2['date']\n",
    "\n",
    "# 成交日期变为步长为10的离散属性\n",
    "bins=[]\n",
    "for i in range(0,390,10):\n",
    "    bins.append(i)\n",
    "    \n",
    "group_names=[]\n",
    "for i in range(1,len(bins)):\n",
    "    group_names.append(i)\n",
    "\n",
    "discrete_temp_date=pd.cut(new_date,bins,right=False,labels=group_names)\n",
    "data2.date=discrete_temp_date"
   ]
  },
  {
   "cell_type": "code",
   "execution_count": 28,
   "metadata": {
    "collapsed": false
   },
   "outputs": [
    {
     "data": {
      "text/plain": [
       "(30000, 226)"
      ]
     },
     "execution_count": 28,
     "metadata": {},
     "output_type": "execute_result"
    }
   ],
   "source": [
    "#data2中的ListingInfo字段被date字段所替换\n",
    "data2.shape\n",
    "data2.drop('ListingInfo',axis=1,inplace=True)\n",
    "data2.shape"
   ]
  },
  {
   "cell_type": "code",
   "execution_count": 29,
   "metadata": {
    "collapsed": false
   },
   "outputs": [
    {
     "data": {
      "text/html": [
       "<div>\n",
       "<table border=\"1\" class=\"dataframe\">\n",
       "  <thead>\n",
       "    <tr style=\"text-align: right;\">\n",
       "      <th></th>\n",
       "      <th>Idx</th>\n",
       "      <th>UserInfo_1</th>\n",
       "      <th>UserInfo_2</th>\n",
       "      <th>UserInfo_3</th>\n",
       "      <th>UserInfo_4</th>\n",
       "      <th>WeblogInfo_2</th>\n",
       "      <th>WeblogInfo_4</th>\n",
       "      <th>WeblogInfo_5</th>\n",
       "      <th>WeblogInfo_6</th>\n",
       "      <th>WeblogInfo_7</th>\n",
       "      <th>...</th>\n",
       "      <th>SocialNetwork_10</th>\n",
       "      <th>SocialNetwork_11</th>\n",
       "      <th>SocialNetwork_12</th>\n",
       "      <th>SocialNetwork_13</th>\n",
       "      <th>SocialNetwork_14</th>\n",
       "      <th>SocialNetwork_15</th>\n",
       "      <th>SocialNetwork_16</th>\n",
       "      <th>SocialNetwork_17</th>\n",
       "      <th>target</th>\n",
       "      <th>date</th>\n",
       "    </tr>\n",
       "  </thead>\n",
       "  <tbody>\n",
       "    <tr>\n",
       "      <th>0</th>\n",
       "      <td>10001</td>\n",
       "      <td>1.0</td>\n",
       "      <td>一线城市</td>\n",
       "      <td>4.0</td>\n",
       "      <td>一线城市</td>\n",
       "      <td>1.0</td>\n",
       "      <td>1.0</td>\n",
       "      <td>1.0</td>\n",
       "      <td>1.0</td>\n",
       "      <td>14</td>\n",
       "      <td>...</td>\n",
       "      <td>222</td>\n",
       "      <td>-1</td>\n",
       "      <td>0</td>\n",
       "      <td>0</td>\n",
       "      <td>0</td>\n",
       "      <td>0</td>\n",
       "      <td>0</td>\n",
       "      <td>1</td>\n",
       "      <td>0</td>\n",
       "      <td>13</td>\n",
       "    </tr>\n",
       "    <tr>\n",
       "      <th>1</th>\n",
       "      <td>10002</td>\n",
       "      <td>1.0</td>\n",
       "      <td>二线城市</td>\n",
       "      <td>4.0</td>\n",
       "      <td>二线城市</td>\n",
       "      <td>0.0</td>\n",
       "      <td>1.0</td>\n",
       "      <td>1.0</td>\n",
       "      <td>1.0</td>\n",
       "      <td>14</td>\n",
       "      <td>...</td>\n",
       "      <td>1</td>\n",
       "      <td>-1</td>\n",
       "      <td>0</td>\n",
       "      <td>0</td>\n",
       "      <td>0</td>\n",
       "      <td>0</td>\n",
       "      <td>0</td>\n",
       "      <td>2</td>\n",
       "      <td>0</td>\n",
       "      <td>12</td>\n",
       "    </tr>\n",
       "    <tr>\n",
       "      <th>2</th>\n",
       "      <td>10003</td>\n",
       "      <td>1.0</td>\n",
       "      <td>三线城市</td>\n",
       "      <td>3.0</td>\n",
       "      <td>三线城市</td>\n",
       "      <td>0.0</td>\n",
       "      <td>2.0</td>\n",
       "      <td>2.0</td>\n",
       "      <td>2.0</td>\n",
       "      <td>9</td>\n",
       "      <td>...</td>\n",
       "      <td>-1</td>\n",
       "      <td>-1</td>\n",
       "      <td>-1</td>\n",
       "      <td>1</td>\n",
       "      <td>0</td>\n",
       "      <td>0</td>\n",
       "      <td>0</td>\n",
       "      <td>0</td>\n",
       "      <td>0</td>\n",
       "      <td>12</td>\n",
       "    </tr>\n",
       "    <tr>\n",
       "      <th>3</th>\n",
       "      <td>10006</td>\n",
       "      <td>4.0</td>\n",
       "      <td>三线城市</td>\n",
       "      <td>1.0</td>\n",
       "      <td>三线城市</td>\n",
       "      <td>0.0</td>\n",
       "      <td>1.0</td>\n",
       "      <td>1.0</td>\n",
       "      <td>1.0</td>\n",
       "      <td>2</td>\n",
       "      <td>...</td>\n",
       "      <td>-1</td>\n",
       "      <td>-1</td>\n",
       "      <td>-1</td>\n",
       "      <td>0</td>\n",
       "      <td>0</td>\n",
       "      <td>0</td>\n",
       "      <td>0</td>\n",
       "      <td>0</td>\n",
       "      <td>0</td>\n",
       "      <td>12</td>\n",
       "    </tr>\n",
       "    <tr>\n",
       "      <th>4</th>\n",
       "      <td>10007</td>\n",
       "      <td>5.0</td>\n",
       "      <td>三线城市</td>\n",
       "      <td>1.0</td>\n",
       "      <td>三线城市</td>\n",
       "      <td>0.0</td>\n",
       "      <td>1.0</td>\n",
       "      <td>1.0</td>\n",
       "      <td>1.0</td>\n",
       "      <td>3</td>\n",
       "      <td>...</td>\n",
       "      <td>-1</td>\n",
       "      <td>-1</td>\n",
       "      <td>-1</td>\n",
       "      <td>0</td>\n",
       "      <td>0</td>\n",
       "      <td>0</td>\n",
       "      <td>0</td>\n",
       "      <td>0</td>\n",
       "      <td>0</td>\n",
       "      <td>12</td>\n",
       "    </tr>\n",
       "  </tbody>\n",
       "</table>\n",
       "<p>5 rows × 226 columns</p>\n",
       "</div>"
      ],
      "text/plain": [
       "     Idx  UserInfo_1 UserInfo_2  UserInfo_3 UserInfo_4  WeblogInfo_2  \\\n",
       "0  10001         1.0       一线城市         4.0       一线城市           1.0   \n",
       "1  10002         1.0       二线城市         4.0       二线城市           0.0   \n",
       "2  10003         1.0       三线城市         3.0       三线城市           0.0   \n",
       "3  10006         4.0       三线城市         1.0       三线城市           0.0   \n",
       "4  10007         5.0       三线城市         1.0       三线城市           0.0   \n",
       "\n",
       "   WeblogInfo_4  WeblogInfo_5  WeblogInfo_6  WeblogInfo_7  ...   \\\n",
       "0           1.0           1.0           1.0            14  ...    \n",
       "1           1.0           1.0           1.0            14  ...    \n",
       "2           2.0           2.0           2.0             9  ...    \n",
       "3           1.0           1.0           1.0             2  ...    \n",
       "4           1.0           1.0           1.0             3  ...    \n",
       "\n",
       "   SocialNetwork_10  SocialNetwork_11  SocialNetwork_12  SocialNetwork_13  \\\n",
       "0               222                -1                 0                 0   \n",
       "1                 1                -1                 0                 0   \n",
       "2                -1                -1                -1                 1   \n",
       "3                -1                -1                -1                 0   \n",
       "4                -1                -1                -1                 0   \n",
       "\n",
       "   SocialNetwork_14  SocialNetwork_15  SocialNetwork_16  SocialNetwork_17  \\\n",
       "0                 0                 0                 0                 1   \n",
       "1                 0                 0                 0                 2   \n",
       "2                 0                 0                 0                 0   \n",
       "3                 0                 0                 0                 0   \n",
       "4                 0                 0                 0                 0   \n",
       "\n",
       "   target  date  \n",
       "0       0    13  \n",
       "1       0    12  \n",
       "2       0    12  \n",
       "3       0    12  \n",
       "4       0    12  \n",
       "\n",
       "[5 rows x 226 columns]"
      ]
     },
     "execution_count": 29,
     "metadata": {},
     "output_type": "execute_result"
    }
   ],
   "source": [
    "data2.head()"
   ]
  },
  {
   "cell_type": "code",
   "execution_count": 30,
   "metadata": {
    "collapsed": false
   },
   "outputs": [
    {
     "data": {
      "text/plain": [
       "'\\n#data2中需要添加的字段\\ndummies_UserInfo_7\\ndummies_UserInfo_19\\ndummies_UserInfo_8\\ndummies_UserInfo_2\\ndummies_UserInfo_4\\ndate\\n\\n#需要删除\\nUserInfo_7\\nUserInfo_19\\nUserInfo_8\\nUserInfo_2\\nUserInfo_4\\nUserInfo_20\\nListingInfo\\n'"
      ]
     },
     "execution_count": 30,
     "metadata": {},
     "output_type": "execute_result"
    }
   ],
   "source": [
    "new_data2=pd.concat([data2,dummies_UserInfo_7,dummies_UserInfo_19,dummies_UserInfo_8,dummies_UserInfo_2,dummies_UserInfo_4],axis=1)\n",
    "#通过观察发现UserInfo_24的特征取值95%都是‘D’，所以可以删除这一字段drop()\n",
    "data2.UserInfo_24.value_counts()\n",
    "new_data2=new_data2.drop(['UserInfo_7','UserInfo_19','UserInfo_8','UserInfo_2','UserInfo_4','UserInfo_20','UserInfo_24'],axis=1)\n",
    "\n",
    "'''\n",
    "#data2中需要添加的字段\n",
    "dummies_UserInfo_7\n",
    "dummies_UserInfo_19\n",
    "dummies_UserInfo_8\n",
    "dummies_UserInfo_2\n",
    "dummies_UserInfo_4\n",
    "date\n",
    "\n",
    "#需要删除\n",
    "UserInfo_7\n",
    "UserInfo_19\n",
    "UserInfo_8\n",
    "UserInfo_2\n",
    "UserInfo_4\n",
    "UserInfo_20\n",
    "ListingInfo\n",
    "'''"
   ]
  },
  {
   "cell_type": "code",
   "execution_count": 31,
   "metadata": {
    "collapsed": false
   },
   "outputs": [],
   "source": [
    "#step1: 确认变量类型 ,object or int/float?\n",
    "#step2: 确认int/float 取值范围，是否需要转换int/float为object 以便 one-hot\n",
    "#data2_cols = data2.columns   \n",
    "new_data2_object_cols = new_data2.columns[new_data2.dtypes == 'object']\n",
    "new_data2_int_cols = new_data2.columns[new_data2.dtypes != 'object']"
   ]
  },
  {
   "cell_type": "code",
   "execution_count": 32,
   "metadata": {
    "collapsed": false
   },
   "outputs": [
    {
     "data": {
      "text/plain": [
       "Index(['UserInfo_9', 'UserInfo_11', 'UserInfo_12', 'UserInfo_13',\n",
       "       'UserInfo_22', 'UserInfo_23', 'Education_Info2', 'Education_Info3',\n",
       "       'Education_Info4', 'Education_Info6', 'Education_Info7',\n",
       "       'Education_Info8', 'WeblogInfo_19', 'WeblogInfo_20', 'WeblogInfo_21'],\n",
       "      dtype='object')"
      ]
     },
     "execution_count": 32,
     "metadata": {},
     "output_type": "execute_result"
    }
   ],
   "source": [
    "new_data2_object_cols"
   ]
  },
  {
   "cell_type": "code",
   "execution_count": 33,
   "metadata": {
    "collapsed": false
   },
   "outputs": [],
   "source": [
    "dummies_data2_object=pd.get_dummies(new_data2[new_data2_object_cols],prefix=new_data2_object_cols)"
   ]
  },
  {
   "cell_type": "code",
   "execution_count": 34,
   "metadata": {
    "collapsed": false
   },
   "outputs": [
    {
     "data": {
      "text/html": [
       "<div>\n",
       "<table border=\"1\" class=\"dataframe\">\n",
       "  <thead>\n",
       "    <tr style=\"text-align: right;\">\n",
       "      <th></th>\n",
       "      <th>UserInfo_9_不详</th>\n",
       "      <th>UserInfo_9_中国电信</th>\n",
       "      <th>UserInfo_9_中国移动</th>\n",
       "      <th>UserInfo_9_中国联通</th>\n",
       "      <th>UserInfo_11_0.0</th>\n",
       "      <th>UserInfo_11_1.0</th>\n",
       "      <th>UserInfo_11_-1.0</th>\n",
       "      <th>UserInfo_12_0.0</th>\n",
       "      <th>UserInfo_12_1.0</th>\n",
       "      <th>UserInfo_12_-1.0</th>\n",
       "      <th>...</th>\n",
       "      <th>WeblogInfo_20_I5</th>\n",
       "      <th>WeblogInfo_20_I6</th>\n",
       "      <th>WeblogInfo_20_I7</th>\n",
       "      <th>WeblogInfo_20_I8</th>\n",
       "      <th>WeblogInfo_20_O</th>\n",
       "      <th>WeblogInfo_20_U</th>\n",
       "      <th>WeblogInfo_21_A</th>\n",
       "      <th>WeblogInfo_21_B</th>\n",
       "      <th>WeblogInfo_21_C</th>\n",
       "      <th>WeblogInfo_21_D</th>\n",
       "    </tr>\n",
       "  </thead>\n",
       "  <tbody>\n",
       "    <tr>\n",
       "      <th>0</th>\n",
       "      <td>0.0</td>\n",
       "      <td>0.0</td>\n",
       "      <td>1.0</td>\n",
       "      <td>0.0</td>\n",
       "      <td>0.0</td>\n",
       "      <td>0.0</td>\n",
       "      <td>1.0</td>\n",
       "      <td>0.0</td>\n",
       "      <td>0.0</td>\n",
       "      <td>1.0</td>\n",
       "      <td>...</td>\n",
       "      <td>1.0</td>\n",
       "      <td>0.0</td>\n",
       "      <td>0.0</td>\n",
       "      <td>0.0</td>\n",
       "      <td>0.0</td>\n",
       "      <td>0.0</td>\n",
       "      <td>0.0</td>\n",
       "      <td>0.0</td>\n",
       "      <td>0.0</td>\n",
       "      <td>1.0</td>\n",
       "    </tr>\n",
       "    <tr>\n",
       "      <th>1</th>\n",
       "      <td>0.0</td>\n",
       "      <td>0.0</td>\n",
       "      <td>1.0</td>\n",
       "      <td>0.0</td>\n",
       "      <td>1.0</td>\n",
       "      <td>0.0</td>\n",
       "      <td>0.0</td>\n",
       "      <td>1.0</td>\n",
       "      <td>0.0</td>\n",
       "      <td>0.0</td>\n",
       "      <td>...</td>\n",
       "      <td>1.0</td>\n",
       "      <td>0.0</td>\n",
       "      <td>0.0</td>\n",
       "      <td>0.0</td>\n",
       "      <td>0.0</td>\n",
       "      <td>0.0</td>\n",
       "      <td>0.0</td>\n",
       "      <td>0.0</td>\n",
       "      <td>0.0</td>\n",
       "      <td>1.0</td>\n",
       "    </tr>\n",
       "    <tr>\n",
       "      <th>2</th>\n",
       "      <td>0.0</td>\n",
       "      <td>1.0</td>\n",
       "      <td>0.0</td>\n",
       "      <td>0.0</td>\n",
       "      <td>1.0</td>\n",
       "      <td>0.0</td>\n",
       "      <td>0.0</td>\n",
       "      <td>1.0</td>\n",
       "      <td>0.0</td>\n",
       "      <td>0.0</td>\n",
       "      <td>...</td>\n",
       "      <td>1.0</td>\n",
       "      <td>0.0</td>\n",
       "      <td>0.0</td>\n",
       "      <td>0.0</td>\n",
       "      <td>0.0</td>\n",
       "      <td>0.0</td>\n",
       "      <td>0.0</td>\n",
       "      <td>0.0</td>\n",
       "      <td>0.0</td>\n",
       "      <td>1.0</td>\n",
       "    </tr>\n",
       "    <tr>\n",
       "      <th>3</th>\n",
       "      <td>0.0</td>\n",
       "      <td>0.0</td>\n",
       "      <td>1.0</td>\n",
       "      <td>0.0</td>\n",
       "      <td>1.0</td>\n",
       "      <td>0.0</td>\n",
       "      <td>0.0</td>\n",
       "      <td>1.0</td>\n",
       "      <td>0.0</td>\n",
       "      <td>0.0</td>\n",
       "      <td>...</td>\n",
       "      <td>1.0</td>\n",
       "      <td>0.0</td>\n",
       "      <td>0.0</td>\n",
       "      <td>0.0</td>\n",
       "      <td>0.0</td>\n",
       "      <td>0.0</td>\n",
       "      <td>0.0</td>\n",
       "      <td>0.0</td>\n",
       "      <td>0.0</td>\n",
       "      <td>1.0</td>\n",
       "    </tr>\n",
       "    <tr>\n",
       "      <th>4</th>\n",
       "      <td>0.0</td>\n",
       "      <td>0.0</td>\n",
       "      <td>1.0</td>\n",
       "      <td>0.0</td>\n",
       "      <td>0.0</td>\n",
       "      <td>0.0</td>\n",
       "      <td>1.0</td>\n",
       "      <td>0.0</td>\n",
       "      <td>0.0</td>\n",
       "      <td>1.0</td>\n",
       "      <td>...</td>\n",
       "      <td>1.0</td>\n",
       "      <td>0.0</td>\n",
       "      <td>0.0</td>\n",
       "      <td>0.0</td>\n",
       "      <td>0.0</td>\n",
       "      <td>0.0</td>\n",
       "      <td>0.0</td>\n",
       "      <td>0.0</td>\n",
       "      <td>0.0</td>\n",
       "      <td>1.0</td>\n",
       "    </tr>\n",
       "  </tbody>\n",
       "</table>\n",
       "<p>5 rows × 125 columns</p>\n",
       "</div>"
      ],
      "text/plain": [
       "   UserInfo_9_不详  UserInfo_9_中国电信  UserInfo_9_中国移动  UserInfo_9_中国联通  \\\n",
       "0            0.0              0.0              1.0              0.0   \n",
       "1            0.0              0.0              1.0              0.0   \n",
       "2            0.0              1.0              0.0              0.0   \n",
       "3            0.0              0.0              1.0              0.0   \n",
       "4            0.0              0.0              1.0              0.0   \n",
       "\n",
       "   UserInfo_11_0.0  UserInfo_11_1.0  UserInfo_11_-1.0  UserInfo_12_0.0  \\\n",
       "0              0.0              0.0               1.0              0.0   \n",
       "1              1.0              0.0               0.0              1.0   \n",
       "2              1.0              0.0               0.0              1.0   \n",
       "3              1.0              0.0               0.0              1.0   \n",
       "4              0.0              0.0               1.0              0.0   \n",
       "\n",
       "   UserInfo_12_1.0  UserInfo_12_-1.0       ...         WeblogInfo_20_I5  \\\n",
       "0              0.0               1.0       ...                      1.0   \n",
       "1              0.0               0.0       ...                      1.0   \n",
       "2              0.0               0.0       ...                      1.0   \n",
       "3              0.0               0.0       ...                      1.0   \n",
       "4              0.0               1.0       ...                      1.0   \n",
       "\n",
       "   WeblogInfo_20_I6  WeblogInfo_20_I7  WeblogInfo_20_I8  WeblogInfo_20_O  \\\n",
       "0               0.0               0.0               0.0              0.0   \n",
       "1               0.0               0.0               0.0              0.0   \n",
       "2               0.0               0.0               0.0              0.0   \n",
       "3               0.0               0.0               0.0              0.0   \n",
       "4               0.0               0.0               0.0              0.0   \n",
       "\n",
       "   WeblogInfo_20_U  WeblogInfo_21_A  WeblogInfo_21_B  WeblogInfo_21_C  \\\n",
       "0              0.0              0.0              0.0              0.0   \n",
       "1              0.0              0.0              0.0              0.0   \n",
       "2              0.0              0.0              0.0              0.0   \n",
       "3              0.0              0.0              0.0              0.0   \n",
       "4              0.0              0.0              0.0              0.0   \n",
       "\n",
       "   WeblogInfo_21_D  \n",
       "0              1.0  \n",
       "1              1.0  \n",
       "2              1.0  \n",
       "3              1.0  \n",
       "4              1.0  \n",
       "\n",
       "[5 rows x 125 columns]"
      ]
     },
     "execution_count": 34,
     "metadata": {},
     "output_type": "execute_result"
    }
   ],
   "source": [
    "dummies_data2_object.head()"
   ]
  },
  {
   "cell_type": "code",
   "execution_count": 35,
   "metadata": {
    "collapsed": false
   },
   "outputs": [
    {
     "data": {
      "text/plain": [
       "(30000, 382)"
      ]
     },
     "execution_count": 35,
     "metadata": {},
     "output_type": "execute_result"
    }
   ],
   "source": [
    "new_data2=pd.concat([new_data2,dummies_data2_object],axis=1)\n",
    "new_data2.shape"
   ]
  },
  {
   "cell_type": "code",
   "execution_count": 36,
   "metadata": {
    "collapsed": false
   },
   "outputs": [
    {
     "name": "stdout",
     "output_type": "stream",
     "text": [
      "new_data2保存到本地\n"
     ]
    }
   ],
   "source": [
    "#修改后的data2数据集\n",
    "new_data2=new_data2.drop(new_data2_object_cols,axis=1)\n",
    "new_data2.to_csv('E:/kaggle数据/PPD/new_data2.csv',index=False)\n",
    "print('new_data2保存到本地')"
   ]
  },
  {
   "cell_type": "code",
   "execution_count": 37,
   "metadata": {
    "collapsed": false
   },
   "outputs": [
    {
     "data": {
      "text/plain": [
       "Index(['Listinginfo1', 'LogInfo3'], dtype='object')"
      ]
     },
     "execution_count": 37,
     "metadata": {},
     "output_type": "execute_result"
    }
   ],
   "source": [
    "#data2数据格式整理结束 需要把data1/data2/data3通过间Idx连接起来\n",
    "#首先观察data1/data3的特征，由于之前已光测过data1/data3都没有缺失值，因此需要看看是否需要one-hot\n",
    "data1_objects_columns=data1.columns[data1.dtypes =='object']\n",
    "data3_objects_columns=data3.columns[data3.dtypes =='object']\n",
    "data1_objects_columns"
   ]
  },
  {
   "cell_type": "code",
   "execution_count": 38,
   "metadata": {
    "collapsed": false
   },
   "outputs": [
    {
     "data": {
      "text/html": [
       "<div>\n",
       "<table border=\"1\" class=\"dataframe\">\n",
       "  <thead>\n",
       "    <tr style=\"text-align: right;\">\n",
       "      <th></th>\n",
       "      <th>Idx</th>\n",
       "      <th>ListingInfo1</th>\n",
       "      <th>UserupdateInfo1</th>\n",
       "      <th>UserupdateInfo2</th>\n",
       "    </tr>\n",
       "  </thead>\n",
       "  <tbody>\n",
       "    <tr>\n",
       "      <th>0</th>\n",
       "      <td>10001</td>\n",
       "      <td>2014/03/05</td>\n",
       "      <td>_educationid</td>\n",
       "      <td>2014/02/20</td>\n",
       "    </tr>\n",
       "    <tr>\n",
       "      <th>1</th>\n",
       "      <td>10001</td>\n",
       "      <td>2014/03/05</td>\n",
       "      <td>_hasbuycar</td>\n",
       "      <td>2014/02/20</td>\n",
       "    </tr>\n",
       "    <tr>\n",
       "      <th>2</th>\n",
       "      <td>10001</td>\n",
       "      <td>2014/03/05</td>\n",
       "      <td>_lastupdatedate</td>\n",
       "      <td>2014/02/20</td>\n",
       "    </tr>\n",
       "    <tr>\n",
       "      <th>3</th>\n",
       "      <td>10001</td>\n",
       "      <td>2014/03/05</td>\n",
       "      <td>_marriagestatusid</td>\n",
       "      <td>2014/02/20</td>\n",
       "    </tr>\n",
       "    <tr>\n",
       "      <th>4</th>\n",
       "      <td>10001</td>\n",
       "      <td>2014/03/05</td>\n",
       "      <td>_mobilephone</td>\n",
       "      <td>2014/02/20</td>\n",
       "    </tr>\n",
       "  </tbody>\n",
       "</table>\n",
       "</div>"
      ],
      "text/plain": [
       "     Idx ListingInfo1    UserupdateInfo1 UserupdateInfo2\n",
       "0  10001   2014/03/05       _educationid      2014/02/20\n",
       "1  10001   2014/03/05         _hasbuycar      2014/02/20\n",
       "2  10001   2014/03/05    _lastupdatedate      2014/02/20\n",
       "3  10001   2014/03/05  _marriagestatusid      2014/02/20\n",
       "4  10001   2014/03/05       _mobilephone      2014/02/20"
      ]
     },
     "execution_count": 38,
     "metadata": {},
     "output_type": "execute_result"
    }
   ],
   "source": [
    "data3.head()"
   ]
  },
  {
   "cell_type": "code",
   "execution_count": 39,
   "metadata": {
    "collapsed": false
   },
   "outputs": [
    {
     "data": {
      "text/html": [
       "<div>\n",
       "<table border=\"1\" class=\"dataframe\">\n",
       "  <thead>\n",
       "    <tr style=\"text-align: right;\">\n",
       "      <th></th>\n",
       "      <th>Idx</th>\n",
       "      <th>Listinginfo1</th>\n",
       "      <th>LogInfo1</th>\n",
       "      <th>LogInfo2</th>\n",
       "      <th>LogInfo3</th>\n",
       "    </tr>\n",
       "  </thead>\n",
       "  <tbody>\n",
       "    <tr>\n",
       "      <th>0</th>\n",
       "      <td>10001</td>\n",
       "      <td>2014-03-05</td>\n",
       "      <td>107</td>\n",
       "      <td>6</td>\n",
       "      <td>2014-02-20</td>\n",
       "    </tr>\n",
       "    <tr>\n",
       "      <th>1</th>\n",
       "      <td>10001</td>\n",
       "      <td>2014-03-05</td>\n",
       "      <td>107</td>\n",
       "      <td>6</td>\n",
       "      <td>2014-02-23</td>\n",
       "    </tr>\n",
       "    <tr>\n",
       "      <th>2</th>\n",
       "      <td>10001</td>\n",
       "      <td>2014-03-05</td>\n",
       "      <td>107</td>\n",
       "      <td>6</td>\n",
       "      <td>2014-02-24</td>\n",
       "    </tr>\n",
       "    <tr>\n",
       "      <th>3</th>\n",
       "      <td>10001</td>\n",
       "      <td>2014-03-05</td>\n",
       "      <td>107</td>\n",
       "      <td>6</td>\n",
       "      <td>2014-02-25</td>\n",
       "    </tr>\n",
       "    <tr>\n",
       "      <th>4</th>\n",
       "      <td>10001</td>\n",
       "      <td>2014-03-05</td>\n",
       "      <td>107</td>\n",
       "      <td>6</td>\n",
       "      <td>2014-02-27</td>\n",
       "    </tr>\n",
       "  </tbody>\n",
       "</table>\n",
       "</div>"
      ],
      "text/plain": [
       "     Idx Listinginfo1  LogInfo1  LogInfo2    LogInfo3\n",
       "0  10001   2014-03-05       107         6  2014-02-20\n",
       "1  10001   2014-03-05       107         6  2014-02-23\n",
       "2  10001   2014-03-05       107         6  2014-02-24\n",
       "3  10001   2014-03-05       107         6  2014-02-25\n",
       "4  10001   2014-03-05       107         6  2014-02-27"
      ]
     },
     "execution_count": 39,
     "metadata": {},
     "output_type": "execute_result"
    }
   ],
   "source": [
    "#data1[data1_objects_columns].head()\n",
    "data1.head()"
   ]
  },
  {
   "cell_type": "code",
   "execution_count": 40,
   "metadata": {
    "collapsed": false,
    "scrolled": true
   },
   "outputs": [
    {
     "data": {
      "text/html": [
       "<div>\n",
       "<table border=\"1\" class=\"dataframe\">\n",
       "  <thead>\n",
       "    <tr style=\"text-align: right;\">\n",
       "      <th></th>\n",
       "      <th>Idx</th>\n",
       "      <th>Listinginfo1</th>\n",
       "      <th>LogInfo1</th>\n",
       "      <th>LogInfo2</th>\n",
       "      <th>LogInfo3</th>\n",
       "    </tr>\n",
       "  </thead>\n",
       "  <tbody>\n",
       "    <tr>\n",
       "      <th>0</th>\n",
       "      <td>10001</td>\n",
       "      <td>2014-03-05</td>\n",
       "      <td>107</td>\n",
       "      <td>6</td>\n",
       "      <td>2014-02-20</td>\n",
       "    </tr>\n",
       "    <tr>\n",
       "      <th>19</th>\n",
       "      <td>10002</td>\n",
       "      <td>2014-02-26</td>\n",
       "      <td>10</td>\n",
       "      <td>0</td>\n",
       "      <td>2013-06-21</td>\n",
       "    </tr>\n",
       "    <tr>\n",
       "      <th>43</th>\n",
       "      <td>10003</td>\n",
       "      <td>2014-02-28</td>\n",
       "      <td>1</td>\n",
       "      <td>0</td>\n",
       "      <td>2014-02-20</td>\n",
       "    </tr>\n",
       "    <tr>\n",
       "      <th>57</th>\n",
       "      <td>10006</td>\n",
       "      <td>2014-02-25</td>\n",
       "      <td>1</td>\n",
       "      <td>0</td>\n",
       "      <td>2014-02-20</td>\n",
       "    </tr>\n",
       "    <tr>\n",
       "      <th>64</th>\n",
       "      <td>10007</td>\n",
       "      <td>2014-02-27</td>\n",
       "      <td>1</td>\n",
       "      <td>2</td>\n",
       "      <td>2014-02-20</td>\n",
       "    </tr>\n",
       "    <tr>\n",
       "      <th>69</th>\n",
       "      <td>10008</td>\n",
       "      <td>2014-02-27</td>\n",
       "      <td>1</td>\n",
       "      <td>0</td>\n",
       "      <td>2014-02-20</td>\n",
       "    </tr>\n",
       "    <tr>\n",
       "      <th>79</th>\n",
       "      <td>10011</td>\n",
       "      <td>2014-02-24</td>\n",
       "      <td>-10</td>\n",
       "      <td>13</td>\n",
       "      <td>2014-02-21</td>\n",
       "    </tr>\n",
       "    <tr>\n",
       "      <th>102</th>\n",
       "      <td>10015</td>\n",
       "      <td>2014-02-28</td>\n",
       "      <td>1</td>\n",
       "      <td>2</td>\n",
       "      <td>2014-02-20</td>\n",
       "    </tr>\n",
       "    <tr>\n",
       "      <th>111</th>\n",
       "      <td>10019</td>\n",
       "      <td>2014-02-24</td>\n",
       "      <td>1</td>\n",
       "      <td>0</td>\n",
       "      <td>2013-09-11</td>\n",
       "    </tr>\n",
       "    <tr>\n",
       "      <th>141</th>\n",
       "      <td>10021</td>\n",
       "      <td>2014-02-27</td>\n",
       "      <td>1</td>\n",
       "      <td>2</td>\n",
       "      <td>2014-02-20</td>\n",
       "    </tr>\n",
       "    <tr>\n",
       "      <th>151</th>\n",
       "      <td>10022</td>\n",
       "      <td>2014-02-25</td>\n",
       "      <td>1</td>\n",
       "      <td>0</td>\n",
       "      <td>2014-02-20</td>\n",
       "    </tr>\n",
       "    <tr>\n",
       "      <th>170</th>\n",
       "      <td>10024</td>\n",
       "      <td>2014-03-06</td>\n",
       "      <td>1</td>\n",
       "      <td>0</td>\n",
       "      <td>2014-02-20</td>\n",
       "    </tr>\n",
       "    <tr>\n",
       "      <th>179</th>\n",
       "      <td>10026</td>\n",
       "      <td>2014-03-04</td>\n",
       "      <td>-10</td>\n",
       "      <td>13</td>\n",
       "      <td>2014-03-02</td>\n",
       "    </tr>\n",
       "    <tr>\n",
       "      <th>219</th>\n",
       "      <td>10027</td>\n",
       "      <td>2014-02-26</td>\n",
       "      <td>1</td>\n",
       "      <td>2</td>\n",
       "      <td>2014-02-20</td>\n",
       "    </tr>\n",
       "    <tr>\n",
       "      <th>225</th>\n",
       "      <td>10031</td>\n",
       "      <td>2014-03-07</td>\n",
       "      <td>-10</td>\n",
       "      <td>13</td>\n",
       "      <td>2014-03-05</td>\n",
       "    </tr>\n",
       "    <tr>\n",
       "      <th>259</th>\n",
       "      <td>10032</td>\n",
       "      <td>2014-02-26</td>\n",
       "      <td>107</td>\n",
       "      <td>6</td>\n",
       "      <td>2014-02-21</td>\n",
       "    </tr>\n",
       "    <tr>\n",
       "      <th>273</th>\n",
       "      <td>10036</td>\n",
       "      <td>2014-02-27</td>\n",
       "      <td>1</td>\n",
       "      <td>2</td>\n",
       "      <td>2014-02-20</td>\n",
       "    </tr>\n",
       "    <tr>\n",
       "      <th>284</th>\n",
       "      <td>10039</td>\n",
       "      <td>2014-02-22</td>\n",
       "      <td>107</td>\n",
       "      <td>6</td>\n",
       "      <td>2014-02-20</td>\n",
       "    </tr>\n",
       "    <tr>\n",
       "      <th>308</th>\n",
       "      <td>10040</td>\n",
       "      <td>2014-02-23</td>\n",
       "      <td>1</td>\n",
       "      <td>0</td>\n",
       "      <td>2014-02-20</td>\n",
       "    </tr>\n",
       "    <tr>\n",
       "      <th>317</th>\n",
       "      <td>10044</td>\n",
       "      <td>2014-02-24</td>\n",
       "      <td>1</td>\n",
       "      <td>0</td>\n",
       "      <td>2014-02-20</td>\n",
       "    </tr>\n",
       "    <tr>\n",
       "      <th>325</th>\n",
       "      <td>10050</td>\n",
       "      <td>2014-02-26</td>\n",
       "      <td>107</td>\n",
       "      <td>6</td>\n",
       "      <td>2014-02-22</td>\n",
       "    </tr>\n",
       "    <tr>\n",
       "      <th>350</th>\n",
       "      <td>10054</td>\n",
       "      <td>2014-02-24</td>\n",
       "      <td>107</td>\n",
       "      <td>6</td>\n",
       "      <td>2014-02-21</td>\n",
       "    </tr>\n",
       "    <tr>\n",
       "      <th>363</th>\n",
       "      <td>10059</td>\n",
       "      <td>2014-02-26</td>\n",
       "      <td>1</td>\n",
       "      <td>0</td>\n",
       "      <td>2011-05-26</td>\n",
       "    </tr>\n",
       "    <tr>\n",
       "      <th>423</th>\n",
       "      <td>1006</td>\n",
       "      <td>2013-11-18</td>\n",
       "      <td>1</td>\n",
       "      <td>0</td>\n",
       "      <td>2013-10-30</td>\n",
       "    </tr>\n",
       "    <tr>\n",
       "      <th>441</th>\n",
       "      <td>10063</td>\n",
       "      <td>2014-02-22</td>\n",
       "      <td>1</td>\n",
       "      <td>0</td>\n",
       "      <td>2014-02-20</td>\n",
       "    </tr>\n",
       "    <tr>\n",
       "      <th>454</th>\n",
       "      <td>10067</td>\n",
       "      <td>2014-02-25</td>\n",
       "      <td>1</td>\n",
       "      <td>0</td>\n",
       "      <td>2014-02-21</td>\n",
       "    </tr>\n",
       "    <tr>\n",
       "      <th>469</th>\n",
       "      <td>10068</td>\n",
       "      <td>2014-03-04</td>\n",
       "      <td>107</td>\n",
       "      <td>6</td>\n",
       "      <td>2014-02-21</td>\n",
       "    </tr>\n",
       "    <tr>\n",
       "      <th>507</th>\n",
       "      <td>10069</td>\n",
       "      <td>2014-02-24</td>\n",
       "      <td>1</td>\n",
       "      <td>0</td>\n",
       "      <td>2014-02-21</td>\n",
       "    </tr>\n",
       "    <tr>\n",
       "      <th>524</th>\n",
       "      <td>1007</td>\n",
       "      <td>2013-11-18</td>\n",
       "      <td>103</td>\n",
       "      <td>6</td>\n",
       "      <td>2013-11-13</td>\n",
       "    </tr>\n",
       "    <tr>\n",
       "      <th>563</th>\n",
       "      <td>10070</td>\n",
       "      <td>2014-03-03</td>\n",
       "      <td>1</td>\n",
       "      <td>0</td>\n",
       "      <td>2014-02-21</td>\n",
       "    </tr>\n",
       "    <tr>\n",
       "      <th>...</th>\n",
       "      <td>...</td>\n",
       "      <td>...</td>\n",
       "      <td>...</td>\n",
       "      <td>...</td>\n",
       "      <td>...</td>\n",
       "    </tr>\n",
       "    <tr>\n",
       "      <th>579916</th>\n",
       "      <td>9905</td>\n",
       "      <td>2014-03-04</td>\n",
       "      <td>-10</td>\n",
       "      <td>13</td>\n",
       "      <td>2014-03-02</td>\n",
       "    </tr>\n",
       "    <tr>\n",
       "      <th>579942</th>\n",
       "      <td>991</td>\n",
       "      <td>2013-11-21</td>\n",
       "      <td>1</td>\n",
       "      <td>0</td>\n",
       "      <td>2013-11-12</td>\n",
       "    </tr>\n",
       "    <tr>\n",
       "      <th>579966</th>\n",
       "      <td>9912</td>\n",
       "      <td>2014-03-05</td>\n",
       "      <td>1</td>\n",
       "      <td>4</td>\n",
       "      <td>2014-03-05</td>\n",
       "    </tr>\n",
       "    <tr>\n",
       "      <th>579982</th>\n",
       "      <td>9914</td>\n",
       "      <td>2014-03-07</td>\n",
       "      <td>2</td>\n",
       "      <td>21</td>\n",
       "      <td>2014-03-07</td>\n",
       "    </tr>\n",
       "    <tr>\n",
       "      <th>580009</th>\n",
       "      <td>9918</td>\n",
       "      <td>2014-02-20</td>\n",
       "      <td>-4</td>\n",
       "      <td>6</td>\n",
       "      <td>2014-02-20</td>\n",
       "    </tr>\n",
       "    <tr>\n",
       "      <th>580013</th>\n",
       "      <td>9919</td>\n",
       "      <td>2014-02-28</td>\n",
       "      <td>1</td>\n",
       "      <td>0</td>\n",
       "      <td>2013-10-11</td>\n",
       "    </tr>\n",
       "    <tr>\n",
       "      <th>580032</th>\n",
       "      <td>992</td>\n",
       "      <td>2013-11-15</td>\n",
       "      <td>-10</td>\n",
       "      <td>13</td>\n",
       "      <td>2013-11-13</td>\n",
       "    </tr>\n",
       "    <tr>\n",
       "      <th>580056</th>\n",
       "      <td>9921</td>\n",
       "      <td>2014-02-26</td>\n",
       "      <td>2</td>\n",
       "      <td>21</td>\n",
       "      <td>2014-02-26</td>\n",
       "    </tr>\n",
       "    <tr>\n",
       "      <th>580062</th>\n",
       "      <td>9923</td>\n",
       "      <td>2014-03-10</td>\n",
       "      <td>-4</td>\n",
       "      <td>6</td>\n",
       "      <td>2014-02-25</td>\n",
       "    </tr>\n",
       "    <tr>\n",
       "      <th>580074</th>\n",
       "      <td>9926</td>\n",
       "      <td>2014-02-21</td>\n",
       "      <td>2</td>\n",
       "      <td>21</td>\n",
       "      <td>2014-02-21</td>\n",
       "    </tr>\n",
       "    <tr>\n",
       "      <th>580077</th>\n",
       "      <td>9935</td>\n",
       "      <td>2014-02-24</td>\n",
       "      <td>2</td>\n",
       "      <td>21</td>\n",
       "      <td>2014-02-24</td>\n",
       "    </tr>\n",
       "    <tr>\n",
       "      <th>580088</th>\n",
       "      <td>9936</td>\n",
       "      <td>2014-02-27</td>\n",
       "      <td>-10</td>\n",
       "      <td>13</td>\n",
       "      <td>2014-02-20</td>\n",
       "    </tr>\n",
       "    <tr>\n",
       "      <th>580116</th>\n",
       "      <td>9938</td>\n",
       "      <td>2014-02-24</td>\n",
       "      <td>107</td>\n",
       "      <td>6</td>\n",
       "      <td>2014-02-20</td>\n",
       "    </tr>\n",
       "    <tr>\n",
       "      <th>580126</th>\n",
       "      <td>9941</td>\n",
       "      <td>2014-02-21</td>\n",
       "      <td>2</td>\n",
       "      <td>21</td>\n",
       "      <td>2014-02-21</td>\n",
       "    </tr>\n",
       "    <tr>\n",
       "      <th>580128</th>\n",
       "      <td>9952</td>\n",
       "      <td>2014-02-22</td>\n",
       "      <td>1</td>\n",
       "      <td>0</td>\n",
       "      <td>2014-02-20</td>\n",
       "    </tr>\n",
       "    <tr>\n",
       "      <th>580144</th>\n",
       "      <td>9964</td>\n",
       "      <td>2014-02-21</td>\n",
       "      <td>-10</td>\n",
       "      <td>13</td>\n",
       "      <td>2014-02-20</td>\n",
       "    </tr>\n",
       "    <tr>\n",
       "      <th>580154</th>\n",
       "      <td>9966</td>\n",
       "      <td>2014-02-23</td>\n",
       "      <td>-10</td>\n",
       "      <td>13</td>\n",
       "      <td>2014-02-23</td>\n",
       "    </tr>\n",
       "    <tr>\n",
       "      <th>580160</th>\n",
       "      <td>9967</td>\n",
       "      <td>2014-02-24</td>\n",
       "      <td>10</td>\n",
       "      <td>0</td>\n",
       "      <td>2013-07-06</td>\n",
       "    </tr>\n",
       "    <tr>\n",
       "      <th>580183</th>\n",
       "      <td>9974</td>\n",
       "      <td>2014-02-28</td>\n",
       "      <td>1</td>\n",
       "      <td>0</td>\n",
       "      <td>2014-02-20</td>\n",
       "    </tr>\n",
       "    <tr>\n",
       "      <th>580202</th>\n",
       "      <td>9979</td>\n",
       "      <td>2014-02-24</td>\n",
       "      <td>10</td>\n",
       "      <td>0</td>\n",
       "      <td>2013-06-17</td>\n",
       "    </tr>\n",
       "    <tr>\n",
       "      <th>580235</th>\n",
       "      <td>9983</td>\n",
       "      <td>2014-02-25</td>\n",
       "      <td>107</td>\n",
       "      <td>6</td>\n",
       "      <td>2014-02-20</td>\n",
       "    </tr>\n",
       "    <tr>\n",
       "      <th>580244</th>\n",
       "      <td>9984</td>\n",
       "      <td>2014-02-22</td>\n",
       "      <td>100</td>\n",
       "      <td>6</td>\n",
       "      <td>2012-12-22</td>\n",
       "    </tr>\n",
       "    <tr>\n",
       "      <th>580383</th>\n",
       "      <td>9986</td>\n",
       "      <td>2014-02-25</td>\n",
       "      <td>1</td>\n",
       "      <td>2</td>\n",
       "      <td>2014-02-20</td>\n",
       "    </tr>\n",
       "    <tr>\n",
       "      <th>580394</th>\n",
       "      <td>9989</td>\n",
       "      <td>2014-02-24</td>\n",
       "      <td>1</td>\n",
       "      <td>2</td>\n",
       "      <td>2014-02-20</td>\n",
       "    </tr>\n",
       "    <tr>\n",
       "      <th>580467</th>\n",
       "      <td>9990</td>\n",
       "      <td>2014-02-28</td>\n",
       "      <td>1</td>\n",
       "      <td>0</td>\n",
       "      <td>2014-02-20</td>\n",
       "    </tr>\n",
       "    <tr>\n",
       "      <th>580474</th>\n",
       "      <td>9991</td>\n",
       "      <td>2014-02-22</td>\n",
       "      <td>1</td>\n",
       "      <td>0</td>\n",
       "      <td>2013-12-17</td>\n",
       "    </tr>\n",
       "    <tr>\n",
       "      <th>580493</th>\n",
       "      <td>9992</td>\n",
       "      <td>2014-02-28</td>\n",
       "      <td>107</td>\n",
       "      <td>6</td>\n",
       "      <td>2014-02-22</td>\n",
       "    </tr>\n",
       "    <tr>\n",
       "      <th>580515</th>\n",
       "      <td>9995</td>\n",
       "      <td>2014-02-24</td>\n",
       "      <td>1</td>\n",
       "      <td>20</td>\n",
       "      <td>2014-02-20</td>\n",
       "    </tr>\n",
       "    <tr>\n",
       "      <th>580521</th>\n",
       "      <td>9997</td>\n",
       "      <td>2014-02-28</td>\n",
       "      <td>107</td>\n",
       "      <td>6</td>\n",
       "      <td>2014-02-20</td>\n",
       "    </tr>\n",
       "    <tr>\n",
       "      <th>580542</th>\n",
       "      <td>9998</td>\n",
       "      <td>2014-03-05</td>\n",
       "      <td>1</td>\n",
       "      <td>0</td>\n",
       "      <td>2014-02-20</td>\n",
       "    </tr>\n",
       "  </tbody>\n",
       "</table>\n",
       "<p>28987 rows × 5 columns</p>\n",
       "</div>"
      ],
      "text/plain": [
       "          Idx Listinginfo1  LogInfo1  LogInfo2    LogInfo3\n",
       "0       10001   2014-03-05       107         6  2014-02-20\n",
       "19      10002   2014-02-26        10         0  2013-06-21\n",
       "43      10003   2014-02-28         1         0  2014-02-20\n",
       "57      10006   2014-02-25         1         0  2014-02-20\n",
       "64      10007   2014-02-27         1         2  2014-02-20\n",
       "69      10008   2014-02-27         1         0  2014-02-20\n",
       "79      10011   2014-02-24       -10        13  2014-02-21\n",
       "102     10015   2014-02-28         1         2  2014-02-20\n",
       "111     10019   2014-02-24         1         0  2013-09-11\n",
       "141     10021   2014-02-27         1         2  2014-02-20\n",
       "151     10022   2014-02-25         1         0  2014-02-20\n",
       "170     10024   2014-03-06         1         0  2014-02-20\n",
       "179     10026   2014-03-04       -10        13  2014-03-02\n",
       "219     10027   2014-02-26         1         2  2014-02-20\n",
       "225     10031   2014-03-07       -10        13  2014-03-05\n",
       "259     10032   2014-02-26       107         6  2014-02-21\n",
       "273     10036   2014-02-27         1         2  2014-02-20\n",
       "284     10039   2014-02-22       107         6  2014-02-20\n",
       "308     10040   2014-02-23         1         0  2014-02-20\n",
       "317     10044   2014-02-24         1         0  2014-02-20\n",
       "325     10050   2014-02-26       107         6  2014-02-22\n",
       "350     10054   2014-02-24       107         6  2014-02-21\n",
       "363     10059   2014-02-26         1         0  2011-05-26\n",
       "423      1006   2013-11-18         1         0  2013-10-30\n",
       "441     10063   2014-02-22         1         0  2014-02-20\n",
       "454     10067   2014-02-25         1         0  2014-02-21\n",
       "469     10068   2014-03-04       107         6  2014-02-21\n",
       "507     10069   2014-02-24         1         0  2014-02-21\n",
       "524      1007   2013-11-18       103         6  2013-11-13\n",
       "563     10070   2014-03-03         1         0  2014-02-21\n",
       "...       ...          ...       ...       ...         ...\n",
       "579916   9905   2014-03-04       -10        13  2014-03-02\n",
       "579942    991   2013-11-21         1         0  2013-11-12\n",
       "579966   9912   2014-03-05         1         4  2014-03-05\n",
       "579982   9914   2014-03-07         2        21  2014-03-07\n",
       "580009   9918   2014-02-20        -4         6  2014-02-20\n",
       "580013   9919   2014-02-28         1         0  2013-10-11\n",
       "580032    992   2013-11-15       -10        13  2013-11-13\n",
       "580056   9921   2014-02-26         2        21  2014-02-26\n",
       "580062   9923   2014-03-10        -4         6  2014-02-25\n",
       "580074   9926   2014-02-21         2        21  2014-02-21\n",
       "580077   9935   2014-02-24         2        21  2014-02-24\n",
       "580088   9936   2014-02-27       -10        13  2014-02-20\n",
       "580116   9938   2014-02-24       107         6  2014-02-20\n",
       "580126   9941   2014-02-21         2        21  2014-02-21\n",
       "580128   9952   2014-02-22         1         0  2014-02-20\n",
       "580144   9964   2014-02-21       -10        13  2014-02-20\n",
       "580154   9966   2014-02-23       -10        13  2014-02-23\n",
       "580160   9967   2014-02-24        10         0  2013-07-06\n",
       "580183   9974   2014-02-28         1         0  2014-02-20\n",
       "580202   9979   2014-02-24        10         0  2013-06-17\n",
       "580235   9983   2014-02-25       107         6  2014-02-20\n",
       "580244   9984   2014-02-22       100         6  2012-12-22\n",
       "580383   9986   2014-02-25         1         2  2014-02-20\n",
       "580394   9989   2014-02-24         1         2  2014-02-20\n",
       "580467   9990   2014-02-28         1         0  2014-02-20\n",
       "580474   9991   2014-02-22         1         0  2013-12-17\n",
       "580493   9992   2014-02-28       107         6  2014-02-22\n",
       "580515   9995   2014-02-24         1        20  2014-02-20\n",
       "580521   9997   2014-02-28       107         6  2014-02-20\n",
       "580542   9998   2014-03-05         1         0  2014-02-20\n",
       "\n",
       "[28987 rows x 5 columns]"
      ]
     },
     "execution_count": 40,
     "metadata": {},
     "output_type": "execute_result"
    }
   ],
   "source": [
    "#观察data1表中 去重的Idx的情况\n",
    "data1.drop_duplicates(subset=['Idx'], keep='first')"
   ]
  },
  {
   "cell_type": "code",
   "execution_count": 41,
   "metadata": {
    "collapsed": false
   },
   "outputs": [
    {
     "data": {
      "text/html": [
       "<div>\n",
       "<table border=\"1\" class=\"dataframe\">\n",
       "  <thead>\n",
       "    <tr style=\"text-align: right;\">\n",
       "      <th></th>\n",
       "      <th>Idx</th>\n",
       "      <th>UserInfo_1</th>\n",
       "      <th>UserInfo_3</th>\n",
       "      <th>WeblogInfo_2</th>\n",
       "      <th>WeblogInfo_4</th>\n",
       "      <th>WeblogInfo_5</th>\n",
       "      <th>WeblogInfo_6</th>\n",
       "      <th>WeblogInfo_7</th>\n",
       "      <th>WeblogInfo_8</th>\n",
       "      <th>WeblogInfo_9</th>\n",
       "      <th>...</th>\n",
       "      <th>WeblogInfo_20_I5</th>\n",
       "      <th>WeblogInfo_20_I6</th>\n",
       "      <th>WeblogInfo_20_I7</th>\n",
       "      <th>WeblogInfo_20_I8</th>\n",
       "      <th>WeblogInfo_20_O</th>\n",
       "      <th>WeblogInfo_20_U</th>\n",
       "      <th>WeblogInfo_21_A</th>\n",
       "      <th>WeblogInfo_21_B</th>\n",
       "      <th>WeblogInfo_21_C</th>\n",
       "      <th>WeblogInfo_21_D</th>\n",
       "    </tr>\n",
       "  </thead>\n",
       "  <tbody>\n",
       "    <tr>\n",
       "      <th>0</th>\n",
       "      <td>10001</td>\n",
       "      <td>1.0</td>\n",
       "      <td>4.0</td>\n",
       "      <td>1.0</td>\n",
       "      <td>1.0</td>\n",
       "      <td>1.0</td>\n",
       "      <td>1.0</td>\n",
       "      <td>14</td>\n",
       "      <td>0</td>\n",
       "      <td>0</td>\n",
       "      <td>...</td>\n",
       "      <td>1.0</td>\n",
       "      <td>0.0</td>\n",
       "      <td>0.0</td>\n",
       "      <td>0.0</td>\n",
       "      <td>0.0</td>\n",
       "      <td>0.0</td>\n",
       "      <td>0.0</td>\n",
       "      <td>0.0</td>\n",
       "      <td>0.0</td>\n",
       "      <td>1.0</td>\n",
       "    </tr>\n",
       "    <tr>\n",
       "      <th>1</th>\n",
       "      <td>10002</td>\n",
       "      <td>1.0</td>\n",
       "      <td>4.0</td>\n",
       "      <td>0.0</td>\n",
       "      <td>1.0</td>\n",
       "      <td>1.0</td>\n",
       "      <td>1.0</td>\n",
       "      <td>14</td>\n",
       "      <td>0</td>\n",
       "      <td>0</td>\n",
       "      <td>...</td>\n",
       "      <td>1.0</td>\n",
       "      <td>0.0</td>\n",
       "      <td>0.0</td>\n",
       "      <td>0.0</td>\n",
       "      <td>0.0</td>\n",
       "      <td>0.0</td>\n",
       "      <td>0.0</td>\n",
       "      <td>0.0</td>\n",
       "      <td>0.0</td>\n",
       "      <td>1.0</td>\n",
       "    </tr>\n",
       "    <tr>\n",
       "      <th>2</th>\n",
       "      <td>10003</td>\n",
       "      <td>1.0</td>\n",
       "      <td>3.0</td>\n",
       "      <td>0.0</td>\n",
       "      <td>2.0</td>\n",
       "      <td>2.0</td>\n",
       "      <td>2.0</td>\n",
       "      <td>9</td>\n",
       "      <td>3</td>\n",
       "      <td>0</td>\n",
       "      <td>...</td>\n",
       "      <td>1.0</td>\n",
       "      <td>0.0</td>\n",
       "      <td>0.0</td>\n",
       "      <td>0.0</td>\n",
       "      <td>0.0</td>\n",
       "      <td>0.0</td>\n",
       "      <td>0.0</td>\n",
       "      <td>0.0</td>\n",
       "      <td>0.0</td>\n",
       "      <td>1.0</td>\n",
       "    </tr>\n",
       "    <tr>\n",
       "      <th>3</th>\n",
       "      <td>10006</td>\n",
       "      <td>4.0</td>\n",
       "      <td>1.0</td>\n",
       "      <td>0.0</td>\n",
       "      <td>1.0</td>\n",
       "      <td>1.0</td>\n",
       "      <td>1.0</td>\n",
       "      <td>2</td>\n",
       "      <td>0</td>\n",
       "      <td>0</td>\n",
       "      <td>...</td>\n",
       "      <td>1.0</td>\n",
       "      <td>0.0</td>\n",
       "      <td>0.0</td>\n",
       "      <td>0.0</td>\n",
       "      <td>0.0</td>\n",
       "      <td>0.0</td>\n",
       "      <td>0.0</td>\n",
       "      <td>0.0</td>\n",
       "      <td>0.0</td>\n",
       "      <td>1.0</td>\n",
       "    </tr>\n",
       "    <tr>\n",
       "      <th>4</th>\n",
       "      <td>10007</td>\n",
       "      <td>5.0</td>\n",
       "      <td>1.0</td>\n",
       "      <td>0.0</td>\n",
       "      <td>1.0</td>\n",
       "      <td>1.0</td>\n",
       "      <td>1.0</td>\n",
       "      <td>3</td>\n",
       "      <td>0</td>\n",
       "      <td>0</td>\n",
       "      <td>...</td>\n",
       "      <td>1.0</td>\n",
       "      <td>0.0</td>\n",
       "      <td>0.0</td>\n",
       "      <td>0.0</td>\n",
       "      <td>0.0</td>\n",
       "      <td>0.0</td>\n",
       "      <td>0.0</td>\n",
       "      <td>0.0</td>\n",
       "      <td>0.0</td>\n",
       "      <td>1.0</td>\n",
       "    </tr>\n",
       "    <tr>\n",
       "      <th>5</th>\n",
       "      <td>10008</td>\n",
       "      <td>1.0</td>\n",
       "      <td>5.0</td>\n",
       "      <td>0.0</td>\n",
       "      <td>2.0</td>\n",
       "      <td>2.0</td>\n",
       "      <td>2.0</td>\n",
       "      <td>4</td>\n",
       "      <td>0</td>\n",
       "      <td>0</td>\n",
       "      <td>...</td>\n",
       "      <td>1.0</td>\n",
       "      <td>0.0</td>\n",
       "      <td>0.0</td>\n",
       "      <td>0.0</td>\n",
       "      <td>0.0</td>\n",
       "      <td>0.0</td>\n",
       "      <td>0.0</td>\n",
       "      <td>0.0</td>\n",
       "      <td>0.0</td>\n",
       "      <td>1.0</td>\n",
       "    </tr>\n",
       "    <tr>\n",
       "      <th>6</th>\n",
       "      <td>10011</td>\n",
       "      <td>1.0</td>\n",
       "      <td>3.0</td>\n",
       "      <td>0.0</td>\n",
       "      <td>13.0</td>\n",
       "      <td>1.0</td>\n",
       "      <td>13.0</td>\n",
       "      <td>15</td>\n",
       "      <td>0</td>\n",
       "      <td>0</td>\n",
       "      <td>...</td>\n",
       "      <td>0.0</td>\n",
       "      <td>0.0</td>\n",
       "      <td>0.0</td>\n",
       "      <td>0.0</td>\n",
       "      <td>0.0</td>\n",
       "      <td>0.0</td>\n",
       "      <td>0.0</td>\n",
       "      <td>0.0</td>\n",
       "      <td>0.0</td>\n",
       "      <td>1.0</td>\n",
       "    </tr>\n",
       "    <tr>\n",
       "      <th>7</th>\n",
       "      <td>10015</td>\n",
       "      <td>4.0</td>\n",
       "      <td>5.0</td>\n",
       "      <td>0.0</td>\n",
       "      <td>12.0</td>\n",
       "      <td>6.0</td>\n",
       "      <td>12.0</td>\n",
       "      <td>8</td>\n",
       "      <td>0</td>\n",
       "      <td>0</td>\n",
       "      <td>...</td>\n",
       "      <td>1.0</td>\n",
       "      <td>0.0</td>\n",
       "      <td>0.0</td>\n",
       "      <td>0.0</td>\n",
       "      <td>0.0</td>\n",
       "      <td>0.0</td>\n",
       "      <td>0.0</td>\n",
       "      <td>0.0</td>\n",
       "      <td>0.0</td>\n",
       "      <td>1.0</td>\n",
       "    </tr>\n",
       "    <tr>\n",
       "      <th>8</th>\n",
       "      <td>10019</td>\n",
       "      <td>1.0</td>\n",
       "      <td>6.0</td>\n",
       "      <td>0.0</td>\n",
       "      <td>10.0</td>\n",
       "      <td>6.0</td>\n",
       "      <td>10.0</td>\n",
       "      <td>19</td>\n",
       "      <td>0</td>\n",
       "      <td>0</td>\n",
       "      <td>...</td>\n",
       "      <td>0.0</td>\n",
       "      <td>0.0</td>\n",
       "      <td>0.0</td>\n",
       "      <td>0.0</td>\n",
       "      <td>0.0</td>\n",
       "      <td>0.0</td>\n",
       "      <td>0.0</td>\n",
       "      <td>0.0</td>\n",
       "      <td>0.0</td>\n",
       "      <td>1.0</td>\n",
       "    </tr>\n",
       "    <tr>\n",
       "      <th>9</th>\n",
       "      <td>10021</td>\n",
       "      <td>3.0</td>\n",
       "      <td>5.0</td>\n",
       "      <td>0.0</td>\n",
       "      <td>1.0</td>\n",
       "      <td>1.0</td>\n",
       "      <td>1.0</td>\n",
       "      <td>6</td>\n",
       "      <td>0</td>\n",
       "      <td>0</td>\n",
       "      <td>...</td>\n",
       "      <td>1.0</td>\n",
       "      <td>0.0</td>\n",
       "      <td>0.0</td>\n",
       "      <td>0.0</td>\n",
       "      <td>0.0</td>\n",
       "      <td>0.0</td>\n",
       "      <td>0.0</td>\n",
       "      <td>0.0</td>\n",
       "      <td>0.0</td>\n",
       "      <td>1.0</td>\n",
       "    </tr>\n",
       "  </tbody>\n",
       "</table>\n",
       "<p>10 rows × 367 columns</p>\n",
       "</div>"
      ],
      "text/plain": [
       "     Idx  UserInfo_1  UserInfo_3  WeblogInfo_2  WeblogInfo_4  WeblogInfo_5  \\\n",
       "0  10001         1.0         4.0           1.0           1.0           1.0   \n",
       "1  10002         1.0         4.0           0.0           1.0           1.0   \n",
       "2  10003         1.0         3.0           0.0           2.0           2.0   \n",
       "3  10006         4.0         1.0           0.0           1.0           1.0   \n",
       "4  10007         5.0         1.0           0.0           1.0           1.0   \n",
       "5  10008         1.0         5.0           0.0           2.0           2.0   \n",
       "6  10011         1.0         3.0           0.0          13.0           1.0   \n",
       "7  10015         4.0         5.0           0.0          12.0           6.0   \n",
       "8  10019         1.0         6.0           0.0          10.0           6.0   \n",
       "9  10021         3.0         5.0           0.0           1.0           1.0   \n",
       "\n",
       "   WeblogInfo_6  WeblogInfo_7  WeblogInfo_8  WeblogInfo_9       ...         \\\n",
       "0           1.0            14             0             0       ...          \n",
       "1           1.0            14             0             0       ...          \n",
       "2           2.0             9             3             0       ...          \n",
       "3           1.0             2             0             0       ...          \n",
       "4           1.0             3             0             0       ...          \n",
       "5           2.0             4             0             0       ...          \n",
       "6          13.0            15             0             0       ...          \n",
       "7          12.0             8             0             0       ...          \n",
       "8          10.0            19             0             0       ...          \n",
       "9           1.0             6             0             0       ...          \n",
       "\n",
       "   WeblogInfo_20_I5  WeblogInfo_20_I6  WeblogInfo_20_I7  WeblogInfo_20_I8  \\\n",
       "0               1.0               0.0               0.0               0.0   \n",
       "1               1.0               0.0               0.0               0.0   \n",
       "2               1.0               0.0               0.0               0.0   \n",
       "3               1.0               0.0               0.0               0.0   \n",
       "4               1.0               0.0               0.0               0.0   \n",
       "5               1.0               0.0               0.0               0.0   \n",
       "6               0.0               0.0               0.0               0.0   \n",
       "7               1.0               0.0               0.0               0.0   \n",
       "8               0.0               0.0               0.0               0.0   \n",
       "9               1.0               0.0               0.0               0.0   \n",
       "\n",
       "   WeblogInfo_20_O  WeblogInfo_20_U  WeblogInfo_21_A  WeblogInfo_21_B  \\\n",
       "0              0.0              0.0              0.0              0.0   \n",
       "1              0.0              0.0              0.0              0.0   \n",
       "2              0.0              0.0              0.0              0.0   \n",
       "3              0.0              0.0              0.0              0.0   \n",
       "4              0.0              0.0              0.0              0.0   \n",
       "5              0.0              0.0              0.0              0.0   \n",
       "6              0.0              0.0              0.0              0.0   \n",
       "7              0.0              0.0              0.0              0.0   \n",
       "8              0.0              0.0              0.0              0.0   \n",
       "9              0.0              0.0              0.0              0.0   \n",
       "\n",
       "   WeblogInfo_21_C  WeblogInfo_21_D  \n",
       "0              0.0              1.0  \n",
       "1              0.0              1.0  \n",
       "2              0.0              1.0  \n",
       "3              0.0              1.0  \n",
       "4              0.0              1.0  \n",
       "5              0.0              1.0  \n",
       "6              0.0              1.0  \n",
       "7              0.0              1.0  \n",
       "8              0.0              1.0  \n",
       "9              0.0              1.0  \n",
       "\n",
       "[10 rows x 367 columns]"
      ]
     },
     "execution_count": 41,
     "metadata": {},
     "output_type": "execute_result"
    }
   ],
   "source": [
    "new_data2.drop_duplicates(subset=['Idx'], keep='first').head(10)"
   ]
  },
  {
   "cell_type": "code",
   "execution_count": 42,
   "metadata": {
    "collapsed": false,
    "scrolled": true
   },
   "outputs": [
    {
     "name": "stdout",
     "output_type": "stream",
     "text": [
      "提取信息完成\n"
     ]
    }
   ],
   "source": [
    "#确认以下三个维度：每个Idx 1、登录次数 LogInfo3  2、每种操作代码的次数 LogInfo1  3、操作类别的次数 LogInfo2\n",
    "import collections\n",
    "train_loginfo = pd.read_csv('E:/kaggle数据/PPD/Training Set/PPD_LogInfo_3_1_Training_Set.csv')\n",
    "Loginfo_number = collections.defaultdict(list) ### 用户操作的次数\n",
    "Loginfo_category = collections.defaultdict(set) ###用户操作的种类数\n",
    "Loginfo_times = collections.defaultdict(list) ### 用户分登录次数\n",
    "Loginfo_date = collections.defaultdict(list) #### 用户借款成交与登录时间跨度\n",
    "\n",
    "with open('E:/kaggle数据/PPD/Training Set/PPD_LogInfo_3_1_Training_Set.csv' ,'r') as f:\n",
    "    f.readline().strip().split(\",\")\n",
    "    for line in f:\n",
    "        cols = line.strip().split(\",\") ### cols 是list结果\n",
    "        Loginfo_date[cols[0]].append(cols[1])\n",
    "        Loginfo_number[cols[0]].append(cols[2])\n",
    "        Loginfo_category[cols[0]].add(cols[3])        \n",
    "        Loginfo_times[cols[0]].append(cols[4])\n",
    "    print(u'提取信息完成')"
   ]
  },
  {
   "cell_type": "code",
   "execution_count": 45,
   "metadata": {
    "collapsed": false
   },
   "outputs": [
    {
     "name": "stdout",
     "output_type": "stream",
     "text": [
      "信息处理完成\n"
     ]
    }
   ],
   "source": [
    "import datetime as dt\n",
    "Loginfo_number_ = collections.defaultdict(int)  ### 用户操作的次数\n",
    "Loginfo_category_ = collections.defaultdict(int) ###用户操作的种类数\n",
    "Loginfo_times_ = collections.defaultdict(int)  ### 用户分登录次数\n",
    "Loginfo_date_ = collections.defaultdict(int) #### 用户借款成交与登录时间跨度\n",
    "\n",
    "for key in Loginfo_date.keys():\n",
    "    Loginfo_times_[key] = len(Loginfo_times[key])\n",
    "    Loginfo_delta_date = dt.datetime.strptime(Loginfo_date[key][0] ,'%Y-%m-%d') - dt.datetime.strptime(list(set(Loginfo_times[key]))[0] ,'%Y-%m-%d')\n",
    "    #if delta_date.days  >=0 :\n",
    "    Loginfo_date_[key] = abs(Loginfo_delta_date.days)  #abs() 函数返回数字的绝对值。\n",
    "    #else:\n",
    "        #loginfo_delta_date_ = dt.datetime.strptime(loginfo_date[key][0] ,'%Y/%m/%d') - dt.datetime.strptime(list(set(loginfo_times[key]))[-1] ,'%Y/%m/%d')\n",
    "        #loginfo_date_[key] = abs(delta_date_.days)\n",
    "    Loginfo_number_[key] = len(Loginfo_number[key])\n",
    "    Loginfo_category_[key] = len(Loginfo_category[key])\n",
    "\n",
    "print('信息处理完成')"
   ]
  },
  {
   "cell_type": "code",
   "execution_count": 46,
   "metadata": {
    "collapsed": false,
    "scrolled": true
   },
   "outputs": [
    {
     "name": "stdout",
     "output_type": "stream",
     "text": [
      "new_data1保存到本地\n"
     ]
    }
   ],
   "source": [
    "## 建立一个DataFrame  data1转为需要的格式 Loginfo\n",
    "Log_Idx_ = Loginfo_date_.keys() #### list\n",
    "Log_numbers_ = Loginfo_number_.values()\n",
    "Log_categorys_ = Loginfo_category_.values()\n",
    "Log_times_ = Loginfo_times_.values()\n",
    "Log_dates_ = Loginfo_date_.values()\n",
    "Loginfo_df = pd.DataFrame({'Idx':list(Log_Idx_) , 'Log_numbers':list(Log_numbers_) ,'Log_categorys':list(Log_categorys_ ),'Log_times':list(Log_times_ ),'Log_dates':list(Log_dates_) })\n",
    "\n",
    "#data1表变为Loginfo_df表\n",
    "Loginfo_df.head()\n",
    "Loginfo_df.to_csv('E:/kaggle数据/PPD/new_data1.csv',index=False,encoding='utf-8')\n",
    "print('new_data1保存到本地')"
   ]
  },
  {
   "cell_type": "code",
   "execution_count": 47,
   "metadata": {
    "collapsed": false
   },
   "outputs": [
    {
     "name": "stdout",
     "output_type": "stream",
     "text": [
      "提取信息完成\n",
      "信息处理完成\n",
      "new_data3保存到本地\n"
     ]
    }
   ],
   "source": [
    "##  userupdateinfo表\n",
    "Userupdate_info_number = collections.defaultdict(list) ### 用户信息更新的次数\n",
    "Userupdate_info_category = collections.defaultdict(set) ###用户信息更新的种类数\n",
    "Userupdate_info_times = collections.defaultdict(list) ### 用户分几次更新了\n",
    "Userupdate_info_date = collections.defaultdict(list) #### 用户借款成交与信息更新时间跨度\n",
    "\n",
    "with open('E:/kaggle数据/PPD/Training Set/PPD_Userupdate_Info_3_1_Training_Set.csv' ,'r') as f:\n",
    "    f.readline().strip().split(\",\")\n",
    "    for line in f:\n",
    "        cols = line.strip().split(\",\") ### cols 是list结果\n",
    "        Userupdate_info_date[cols[0]].append(cols[1])\n",
    "        Userupdate_info_number[cols[0]].append(cols[2])\n",
    "        Userupdate_info_category[cols[0]].add(cols[2])\n",
    "        Userupdate_info_times[cols[0]].append(cols[3])\n",
    "    print(u'提取信息完成')\n",
    "\n",
    "Userupdate_info_number_ = collections.defaultdict(int) ### 用户信息更新的次数\n",
    "Userupdate_info_category_ = collections.defaultdict(int) ###用户信息更新的种类数\n",
    "Userupdate_info_times_ = collections.defaultdict(int) ### 用户分几次更新了\n",
    "Userupdate_info_date_ = collections.defaultdict(int) #### 用户借款成交与信息更新时间跨度\n",
    "\n",
    "for key in Userupdate_info_date.keys():\n",
    "    #注意 set()的用法，对于列List中相同的元素，取唯一值（去重后的值）\n",
    "    #用户更新几次，取决于‘修改时间’UserupdateInfo2有几个不同的值，可用set（）函数解决\n",
    "    Userupdate_info_times_[key] = len(set(Userupdate_info_times[key]))\n",
    "    \n",
    "    #注意 set()的用法，对于列List中相同的元素，取唯一值（去重后的值）\n",
    "    delta_date = dt.datetime.strptime(Userupdate_info_date[key][0] ,'%Y/%m/%d') - dt.datetime.strptime(list(set(Userupdate_info_times[key]))[0] ,'%Y/%m/%d')\n",
    "    #if delta_date.days  >=0 :\n",
    "    Userupdate_info_date_[key] = abs(delta_date.days)\n",
    "    #else:\n",
    "        #delta_date_ = dt.datetime.strptime(userupdate_info_date[key][0] ,'%Y/%m/%d') - dt.datetime.strptime(list(set(userupdate_info_times[key]))[0] ,'%Y/%m/%d')\n",
    "        #userupdate_info_date_[key] = abs(delta_date_.days)\n",
    "    \n",
    "    Userupdate_info_number_[key] = len(Userupdate_info_number[key])\n",
    "    Userupdate_info_category_[key] = len(Userupdate_info_category[key])\n",
    "\n",
    "print('信息处理完成')\n",
    "\n",
    "## 建立一个DataFrame\n",
    "Idx_ = Userupdate_info_date_.keys() #### list\n",
    "numbers_ = Userupdate_info_number_.values()\n",
    "categorys_ = Userupdate_info_category_.values()\n",
    "times_ = Userupdate_info_times_.values()\n",
    "dates_ = Userupdate_info_date_.values()\n",
    "Userupdate_df = pd.DataFrame({'Idx':list(Idx_ ), 'numbers':list(numbers_) ,'categorys':list(categorys_) ,'times':list(times_ ),'dates':list(dates_ )})\n",
    "\n",
    "#data3表变为Userupdate_df表\n",
    "Userupdate_df.head()\n",
    "Userupdate_df.to_csv('E:/kaggle数据/PPD/new_data3.csv',index=False,encoding='utf-8')\n",
    "print('new_data3保存到本地')"
   ]
  },
  {
   "cell_type": "code",
   "execution_count": 48,
   "metadata": {
    "collapsed": false
   },
   "outputs": [],
   "source": [
    "#↓↓↓↓↓↓↓↓↓↓↓↓↓↓合并三个表 ↓↓↓↓↓↓↓↓↓↓"
   ]
  },
  {
   "cell_type": "code",
   "execution_count": 158,
   "metadata": {
    "collapsed": false,
    "scrolled": true
   },
   "outputs": [],
   "source": [
    "train_all = pd.merge(Loginfo_df,Userupdate_df,how='left',on='Idx')\n",
    "train_all = pd.merge(new_data2,train_all, how='left', on='Idx')"
   ]
  },
  {
   "cell_type": "code",
   "execution_count": 159,
   "metadata": {
    "collapsed": false,
    "scrolled": true
   },
   "outputs": [
    {
     "data": {
      "text/plain": [
       "WeblogInfo_21_C        0\n",
       "WeblogInfo_21_D        0\n",
       "Log_categorys      30000\n",
       "Log_dates          30000\n",
       "Log_numbers        30000\n",
       "Log_times          30000\n",
       "categorys          30000\n",
       "dates              30000\n",
       "numbers            30000\n",
       "times              30000\n",
       "dtype: int64"
      ]
     },
     "execution_count": 159,
     "metadata": {},
     "output_type": "execute_result"
    }
   ],
   "source": [
    "train_all.isnull().sum().tail(10)\n",
    "\n",
    "#为什么？？、难道是new_data2没有与Loginfo_df，Userupdate_df一样的Idx??"
   ]
  },
  {
   "cell_type": "code",
   "execution_count": 160,
   "metadata": {
    "collapsed": false
   },
   "outputs": [
    {
     "data": {
      "text/plain": [
       "Idx          0\n",
       "categorys    0\n",
       "dates        0\n",
       "numbers      0\n",
       "times        0\n",
       "dtype: int64"
      ]
     },
     "execution_count": 160,
     "metadata": {},
     "output_type": "execute_result"
    }
   ],
   "source": [
    "Userupdate_df.isnull().sum().tail()"
   ]
  },
  {
   "cell_type": "code",
   "execution_count": 161,
   "metadata": {
    "collapsed": false
   },
   "outputs": [
    {
     "data": {
      "text/plain": [
       "WeblogInfo_20_U    0\n",
       "WeblogInfo_21_A    0\n",
       "WeblogInfo_21_B    0\n",
       "WeblogInfo_21_C    0\n",
       "WeblogInfo_21_D    0\n",
       "dtype: int64"
      ]
     },
     "execution_count": 161,
     "metadata": {},
     "output_type": "execute_result"
    }
   ],
   "source": [
    "new_data2.isnull().sum().tail()"
   ]
  },
  {
   "cell_type": "code",
   "execution_count": 49,
   "metadata": {
    "collapsed": false,
    "scrolled": false
   },
   "outputs": [],
   "source": [
    "a1=pd.read_csv('E:/kaggle数据/PPD/new_data1.csv')\n",
    "a2=pd.read_csv('E:/kaggle数据/PPD/new_data2.csv',encoding='gb18030')\n",
    "a3=pd.read_csv('E:/kaggle数据/PPD/new_data3.csv')\n",
    "all_data=pd.merge(a1,a2,how='left',on='Idx')\n",
    "all_data=pd.merge(a3,all_data,how='left',on='Idx')\n",
    "all_data=all_data.fillna(all_data.median())"
   ]
  },
  {
   "cell_type": "code",
   "execution_count": 50,
   "metadata": {
    "collapsed": false
   },
   "outputs": [
    {
     "data": {
      "text/plain": [
       "(29995, 375)"
      ]
     },
     "execution_count": 50,
     "metadata": {},
     "output_type": "execute_result"
    }
   ],
   "source": [
    "all_data.isnull().sum().sort_values(ascending=False)\n",
    "all_data.shape"
   ]
  },
  {
   "cell_type": "code",
   "execution_count": 51,
   "metadata": {
    "collapsed": false
   },
   "outputs": [
    {
     "data": {
      "text/html": [
       "<div>\n",
       "<table border=\"1\" class=\"dataframe\">\n",
       "  <thead>\n",
       "    <tr style=\"text-align: right;\">\n",
       "      <th></th>\n",
       "      <th>Idx</th>\n",
       "      <th>categorys</th>\n",
       "      <th>dates</th>\n",
       "      <th>numbers</th>\n",
       "      <th>times</th>\n",
       "      <th>Log_categorys</th>\n",
       "      <th>Log_dates</th>\n",
       "      <th>Log_numbers</th>\n",
       "      <th>Log_times</th>\n",
       "      <th>UserInfo_1</th>\n",
       "      <th>...</th>\n",
       "      <th>WeblogInfo_20_I5</th>\n",
       "      <th>WeblogInfo_20_I6</th>\n",
       "      <th>WeblogInfo_20_I7</th>\n",
       "      <th>WeblogInfo_20_I8</th>\n",
       "      <th>WeblogInfo_20_O</th>\n",
       "      <th>WeblogInfo_20_U</th>\n",
       "      <th>WeblogInfo_21_A</th>\n",
       "      <th>WeblogInfo_21_B</th>\n",
       "      <th>WeblogInfo_21_C</th>\n",
       "      <th>WeblogInfo_21_D</th>\n",
       "    </tr>\n",
       "  </thead>\n",
       "  <tbody>\n",
       "    <tr>\n",
       "      <th>0</th>\n",
       "      <td>32343</td>\n",
       "      <td>14</td>\n",
       "      <td>8</td>\n",
       "      <td>17</td>\n",
       "      <td>2</td>\n",
       "      <td>6.0</td>\n",
       "      <td>0.0</td>\n",
       "      <td>11.0</td>\n",
       "      <td>11.0</td>\n",
       "      <td>1.0</td>\n",
       "      <td>...</td>\n",
       "      <td>0.0</td>\n",
       "      <td>0.0</td>\n",
       "      <td>0.0</td>\n",
       "      <td>0.0</td>\n",
       "      <td>0.0</td>\n",
       "      <td>0.0</td>\n",
       "      <td>0.0</td>\n",
       "      <td>0.0</td>\n",
       "      <td>0.0</td>\n",
       "      <td>1.0</td>\n",
       "    </tr>\n",
       "    <tr>\n",
       "      <th>1</th>\n",
       "      <td>40097</td>\n",
       "      <td>12</td>\n",
       "      <td>1</td>\n",
       "      <td>12</td>\n",
       "      <td>1</td>\n",
       "      <td>6.0</td>\n",
       "      <td>1.0</td>\n",
       "      <td>11.0</td>\n",
       "      <td>11.0</td>\n",
       "      <td>1.0</td>\n",
       "      <td>...</td>\n",
       "      <td>1.0</td>\n",
       "      <td>0.0</td>\n",
       "      <td>0.0</td>\n",
       "      <td>0.0</td>\n",
       "      <td>0.0</td>\n",
       "      <td>0.0</td>\n",
       "      <td>1.0</td>\n",
       "      <td>0.0</td>\n",
       "      <td>0.0</td>\n",
       "      <td>0.0</td>\n",
       "    </tr>\n",
       "    <tr>\n",
       "      <th>2</th>\n",
       "      <td>75245</td>\n",
       "      <td>12</td>\n",
       "      <td>10</td>\n",
       "      <td>12</td>\n",
       "      <td>1</td>\n",
       "      <td>5.0</td>\n",
       "      <td>5.0</td>\n",
       "      <td>8.0</td>\n",
       "      <td>8.0</td>\n",
       "      <td>1.0</td>\n",
       "      <td>...</td>\n",
       "      <td>1.0</td>\n",
       "      <td>0.0</td>\n",
       "      <td>0.0</td>\n",
       "      <td>0.0</td>\n",
       "      <td>0.0</td>\n",
       "      <td>0.0</td>\n",
       "      <td>0.0</td>\n",
       "      <td>0.0</td>\n",
       "      <td>0.0</td>\n",
       "      <td>1.0</td>\n",
       "    </tr>\n",
       "    <tr>\n",
       "      <th>3</th>\n",
       "      <td>50446</td>\n",
       "      <td>22</td>\n",
       "      <td>9</td>\n",
       "      <td>33</td>\n",
       "      <td>5</td>\n",
       "      <td>6.0</td>\n",
       "      <td>5.0</td>\n",
       "      <td>93.0</td>\n",
       "      <td>93.0</td>\n",
       "      <td>3.0</td>\n",
       "      <td>...</td>\n",
       "      <td>1.0</td>\n",
       "      <td>0.0</td>\n",
       "      <td>0.0</td>\n",
       "      <td>0.0</td>\n",
       "      <td>0.0</td>\n",
       "      <td>0.0</td>\n",
       "      <td>0.0</td>\n",
       "      <td>0.0</td>\n",
       "      <td>0.0</td>\n",
       "      <td>1.0</td>\n",
       "    </tr>\n",
       "    <tr>\n",
       "      <th>4</th>\n",
       "      <td>60177</td>\n",
       "      <td>9</td>\n",
       "      <td>6</td>\n",
       "      <td>9</td>\n",
       "      <td>2</td>\n",
       "      <td>5.0</td>\n",
       "      <td>3.0</td>\n",
       "      <td>15.0</td>\n",
       "      <td>15.0</td>\n",
       "      <td>3.0</td>\n",
       "      <td>...</td>\n",
       "      <td>1.0</td>\n",
       "      <td>0.0</td>\n",
       "      <td>0.0</td>\n",
       "      <td>0.0</td>\n",
       "      <td>0.0</td>\n",
       "      <td>0.0</td>\n",
       "      <td>0.0</td>\n",
       "      <td>0.0</td>\n",
       "      <td>0.0</td>\n",
       "      <td>1.0</td>\n",
       "    </tr>\n",
       "  </tbody>\n",
       "</table>\n",
       "<p>5 rows × 375 columns</p>\n",
       "</div>"
      ],
      "text/plain": [
       "     Idx  categorys  dates  numbers  times  Log_categorys  Log_dates  \\\n",
       "0  32343         14      8       17      2            6.0        0.0   \n",
       "1  40097         12      1       12      1            6.0        1.0   \n",
       "2  75245         12     10       12      1            5.0        5.0   \n",
       "3  50446         22      9       33      5            6.0        5.0   \n",
       "4  60177          9      6        9      2            5.0        3.0   \n",
       "\n",
       "   Log_numbers  Log_times  UserInfo_1       ...         WeblogInfo_20_I5  \\\n",
       "0         11.0       11.0         1.0       ...                      0.0   \n",
       "1         11.0       11.0         1.0       ...                      1.0   \n",
       "2          8.0        8.0         1.0       ...                      1.0   \n",
       "3         93.0       93.0         3.0       ...                      1.0   \n",
       "4         15.0       15.0         3.0       ...                      1.0   \n",
       "\n",
       "   WeblogInfo_20_I6  WeblogInfo_20_I7  WeblogInfo_20_I8  WeblogInfo_20_O  \\\n",
       "0               0.0               0.0               0.0              0.0   \n",
       "1               0.0               0.0               0.0              0.0   \n",
       "2               0.0               0.0               0.0              0.0   \n",
       "3               0.0               0.0               0.0              0.0   \n",
       "4               0.0               0.0               0.0              0.0   \n",
       "\n",
       "   WeblogInfo_20_U  WeblogInfo_21_A  WeblogInfo_21_B  WeblogInfo_21_C  \\\n",
       "0              0.0              0.0              0.0              0.0   \n",
       "1              0.0              1.0              0.0              0.0   \n",
       "2              0.0              0.0              0.0              0.0   \n",
       "3              0.0              0.0              0.0              0.0   \n",
       "4              0.0              0.0              0.0              0.0   \n",
       "\n",
       "   WeblogInfo_21_D  \n",
       "0              1.0  \n",
       "1              0.0  \n",
       "2              1.0  \n",
       "3              1.0  \n",
       "4              1.0  \n",
       "\n",
       "[5 rows x 375 columns]"
      ]
     },
     "execution_count": 51,
     "metadata": {},
     "output_type": "execute_result"
    }
   ],
   "source": [
    "all_data.head()"
   ]
  },
  {
   "cell_type": "code",
   "execution_count": 52,
   "metadata": {
    "collapsed": false,
    "scrolled": true
   },
   "outputs": [],
   "source": [
    "#处理训练样本分布不均衡问题\n",
    "from sklearn.cross_validation import train_test_split\n",
    "\n",
    "believe_indices = all_data[all_data.target == 0.0].index\n",
    "random_indices = np.random.choice(believe_indices, 2117, replace=False)\n",
    "believe_sample = all_data.loc[random_indices]\n",
    "unbelieve_indices = all_data[all_data.target == 1.0].index\n",
    "unbelieve_sample = all_data.loc[unbelieve_indices]\n",
    "new_all_data=pd.concat([believe_sample,unbelieve_sample],axis=0)\n",
    "\n",
    "y=new_all_data.target\n",
    "X=new_all_data.drop('target',axis=1)\n",
    "X_train,X_test,y_train,y_test=train_test_split(X,y,test_size=0.3,random_state=0)"
   ]
  },
  {
   "cell_type": "code",
   "execution_count": 80,
   "metadata": {
    "collapsed": false
   },
   "outputs": [],
   "source": [
    "from sklearn.ensemble import RandomForestClassifier\n",
    "rfr=RandomForestClassifier(n_estimators =100,max_features=20,max_depth=None)\n",
    "model=rfr.fit(X_train,y_train)\n",
    "from sklearn.cross_validation import cross_val_score\n",
    "score=cross_val_score(model,X_train,y_train,cv=5)\n",
    "result=model.predict(X_test)"
   ]
  },
  {
   "cell_type": "code",
   "execution_count": 81,
   "metadata": {
    "collapsed": false
   },
   "outputs": [
    {
     "data": {
      "text/plain": [
       "array([ 0.6846543 ,  0.67959528,  0.67284992,  0.64695946,  0.66216216])"
      ]
     },
     "execution_count": 81,
     "metadata": {},
     "output_type": "execute_result"
    }
   ],
   "source": [
    "score"
   ]
  },
  {
   "cell_type": "code",
   "execution_count": 84,
   "metadata": {
    "collapsed": false
   },
   "outputs": [
    {
     "name": "stdout",
     "output_type": "stream",
     "text": [
      "模型保存到本地\n"
     ]
    }
   ],
   "source": [
    "from sklearn.externals import joblib\n",
    "joblib.dump(model, \"E:/kaggle数据/PPD/model/train_model.m\")\n",
    "print('模型保存到本地')"
   ]
  },
  {
   "cell_type": "code",
   "execution_count": 86,
   "metadata": {
    "collapsed": false
   },
   "outputs": [],
   "source": [
    "from sklearn.learning_curve import learning_curve\n",
    "# 用sklearn的learning_curve得到training_score和cv_score，使用matplotlib画出learning curve\n",
    "def plot_learning_curve(estimator, title, X, y, ylim=None, cv=None, n_jobs=-1,train_sizes=np.linspace(.05, 1., 30), verbose=0, plot=True):\n",
    "\n",
    "    train_sizes, train_scores, test_scores = learning_curve(estimator, X, y, cv=cv, n_jobs=n_jobs, train_sizes=train_sizes, verbose=verbose)\n",
    "    train_scores_mean = np.mean(train_scores, axis=1)\n",
    "    train_scores_std = np.std(train_scores, axis=1)\n",
    "    test_scores_mean = np.mean(test_scores, axis=1)\n",
    "    test_scores_std = np.std(test_scores, axis=1)\n",
    "    \n",
    "    if plot:\n",
    "        plt.figure()\n",
    "        plt.title(title)\n",
    "        if ylim is not None:\n",
    "            plt.ylim(*ylim)\n",
    "        plt.xlabel(\"samples\")\n",
    "        plt.ylabel('score')\n",
    "        plt.gca().invert_yaxis()\n",
    "        plt.grid()\n",
    "    \n",
    "        plt.fill_between(train_sizes, train_scores_mean - train_scores_std, train_scores_mean + train_scores_std, \n",
    "                         alpha=0.1, color=\"b\")\n",
    "        plt.fill_between(train_sizes, test_scores_mean - test_scores_std, test_scores_mean + test_scores_std, \n",
    "                         alpha=0.1, color=\"r\")\n",
    "        plt.plot(train_sizes, train_scores_mean, 'o-', color=\"b\", label=\"train_set_score\")\n",
    "        plt.plot(train_sizes, test_scores_mean, 'o-', color=\"r\", label=\"cross_test_score\")\n",
    "    \n",
    "        plt.legend(loc=\"best\")\n",
    "        \n",
    "        plt.draw()\n",
    "        plt.gca().invert_yaxis()\n",
    "        plt.show()\n",
    "    \n",
    "    midpoint = ((train_scores_mean[-1] + train_scores_std[-1]) + (test_scores_mean[-1] - test_scores_std[-1])) / 2\n",
    "    diff = (train_scores_mean[-1] + train_scores_std[-1]) - (test_scores_mean[-1] - test_scores_std[-1])\n",
    "    return midpoint, diff"
   ]
  },
  {
   "cell_type": "code",
   "execution_count": 87,
   "metadata": {
    "collapsed": true
   },
   "outputs": [
    {
     "ename": "KeyboardInterrupt",
     "evalue": "",
     "traceback": [
      "\u001b[1;31m---------------------------------------------------------------------------\u001b[0m",
      "\u001b[1;31mKeyboardInterrupt\u001b[0m                         Traceback (most recent call last)",
      "\u001b[1;32m<ipython-input-87-fefd1f96a0b6>\u001b[0m in \u001b[0;36m<module>\u001b[1;34m()\u001b[0m\n\u001b[0;32m      1\u001b[0m \u001b[0mtrain_sizes\u001b[0m\u001b[1;33m,\u001b[0m \u001b[0mtrain_scores\u001b[0m\u001b[1;33m,\u001b[0m \u001b[0mtest_scores\u001b[0m\u001b[1;33m=\u001b[0m\u001b[0mlearning_curve\u001b[0m\u001b[1;33m(\u001b[0m\u001b[0mmodel\u001b[0m\u001b[1;33m,\u001b[0m\u001b[0mX_train\u001b[0m\u001b[1;33m,\u001b[0m\u001b[0my_train\u001b[0m\u001b[1;33m,\u001b[0m\u001b[0mcv\u001b[0m\u001b[1;33m=\u001b[0m\u001b[1;36m5\u001b[0m\u001b[1;33m)\u001b[0m\u001b[1;33m\u001b[0m\u001b[0m\n\u001b[1;32m----> 2\u001b[1;33m \u001b[0mplot_learning_curve\u001b[0m\u001b[1;33m(\u001b[0m\u001b[0mmodel\u001b[0m\u001b[1;33m,\u001b[0m \u001b[1;34m\"learning curve\"\u001b[0m\u001b[1;33m,\u001b[0m \u001b[0mX_train\u001b[0m\u001b[1;33m,\u001b[0m\u001b[0my_train\u001b[0m\u001b[1;33m)\u001b[0m\u001b[1;33m\u001b[0m\u001b[0m\n\u001b[0m",
      "\u001b[1;32m<ipython-input-86-243b594342af>\u001b[0m in \u001b[0;36mplot_learning_curve\u001b[1;34m(estimator, title, X, y, ylim, cv, n_jobs, train_sizes, verbose, plot)\u001b[0m\n\u001b[0;32m     30\u001b[0m         \u001b[0mplt\u001b[0m\u001b[1;33m.\u001b[0m\u001b[0mdraw\u001b[0m\u001b[1;33m(\u001b[0m\u001b[1;33m)\u001b[0m\u001b[1;33m\u001b[0m\u001b[0m\n\u001b[0;32m     31\u001b[0m         \u001b[0mplt\u001b[0m\u001b[1;33m.\u001b[0m\u001b[0mgca\u001b[0m\u001b[1;33m(\u001b[0m\u001b[1;33m)\u001b[0m\u001b[1;33m.\u001b[0m\u001b[0minvert_yaxis\u001b[0m\u001b[1;33m(\u001b[0m\u001b[1;33m)\u001b[0m\u001b[1;33m\u001b[0m\u001b[0m\n\u001b[1;32m---> 32\u001b[1;33m         \u001b[0mplt\u001b[0m\u001b[1;33m.\u001b[0m\u001b[0mshow\u001b[0m\u001b[1;33m(\u001b[0m\u001b[1;33m)\u001b[0m\u001b[1;33m\u001b[0m\u001b[0m\n\u001b[0m\u001b[0;32m     33\u001b[0m \u001b[1;33m\u001b[0m\u001b[0m\n\u001b[0;32m     34\u001b[0m     \u001b[0mmidpoint\u001b[0m \u001b[1;33m=\u001b[0m \u001b[1;33m(\u001b[0m\u001b[1;33m(\u001b[0m\u001b[0mtrain_scores_mean\u001b[0m\u001b[1;33m[\u001b[0m\u001b[1;33m-\u001b[0m\u001b[1;36m1\u001b[0m\u001b[1;33m]\u001b[0m \u001b[1;33m+\u001b[0m \u001b[0mtrain_scores_std\u001b[0m\u001b[1;33m[\u001b[0m\u001b[1;33m-\u001b[0m\u001b[1;36m1\u001b[0m\u001b[1;33m]\u001b[0m\u001b[1;33m)\u001b[0m \u001b[1;33m+\u001b[0m \u001b[1;33m(\u001b[0m\u001b[0mtest_scores_mean\u001b[0m\u001b[1;33m[\u001b[0m\u001b[1;33m-\u001b[0m\u001b[1;36m1\u001b[0m\u001b[1;33m]\u001b[0m \u001b[1;33m-\u001b[0m \u001b[0mtest_scores_std\u001b[0m\u001b[1;33m[\u001b[0m\u001b[1;33m-\u001b[0m\u001b[1;36m1\u001b[0m\u001b[1;33m]\u001b[0m\u001b[1;33m)\u001b[0m\u001b[1;33m)\u001b[0m \u001b[1;33m/\u001b[0m \u001b[1;36m2\u001b[0m\u001b[1;33m\u001b[0m\u001b[0m\n",
      "\u001b[1;32mC:\\Users\\Bohemian\\AppData\\Roaming\\Python\\Python35\\site-packages\\matplotlib\\pyplot.py\u001b[0m in \u001b[0;36mshow\u001b[1;34m(*args, **kw)\u001b[0m\n\u001b[0;32m    250\u001b[0m     \"\"\"\n\u001b[0;32m    251\u001b[0m     \u001b[1;32mglobal\u001b[0m \u001b[0m_show\u001b[0m\u001b[1;33m\u001b[0m\u001b[0m\n\u001b[1;32m--> 252\u001b[1;33m     \u001b[1;32mreturn\u001b[0m \u001b[0m_show\u001b[0m\u001b[1;33m(\u001b[0m\u001b[1;33m*\u001b[0m\u001b[0margs\u001b[0m\u001b[1;33m,\u001b[0m \u001b[1;33m**\u001b[0m\u001b[0mkw\u001b[0m\u001b[1;33m)\u001b[0m\u001b[1;33m\u001b[0m\u001b[0m\n\u001b[0m\u001b[0;32m    253\u001b[0m \u001b[1;33m\u001b[0m\u001b[0m\n\u001b[0;32m    254\u001b[0m \u001b[1;33m\u001b[0m\u001b[0m\n",
      "\u001b[1;32mC:\\Users\\Bohemian\\AppData\\Roaming\\Python\\Python35\\site-packages\\matplotlib\\backend_bases.py\u001b[0m in \u001b[0;36m__call__\u001b[1;34m(self, block)\u001b[0m\n\u001b[0;32m    190\u001b[0m \u001b[1;33m\u001b[0m\u001b[0m\n\u001b[0;32m    191\u001b[0m         \u001b[1;32mif\u001b[0m \u001b[1;32mnot\u001b[0m \u001b[0mis_interactive\u001b[0m\u001b[1;33m(\u001b[0m\u001b[1;33m)\u001b[0m \u001b[1;32mor\u001b[0m \u001b[0mget_backend\u001b[0m\u001b[1;33m(\u001b[0m\u001b[1;33m)\u001b[0m \u001b[1;33m==\u001b[0m \u001b[1;34m'WebAgg'\u001b[0m\u001b[1;33m:\u001b[0m\u001b[1;33m\u001b[0m\u001b[0m\n\u001b[1;32m--> 192\u001b[1;33m             \u001b[0mself\u001b[0m\u001b[1;33m.\u001b[0m\u001b[0mmainloop\u001b[0m\u001b[1;33m(\u001b[0m\u001b[1;33m)\u001b[0m\u001b[1;33m\u001b[0m\u001b[0m\n\u001b[0m\u001b[0;32m    193\u001b[0m \u001b[1;33m\u001b[0m\u001b[0m\n\u001b[0;32m    194\u001b[0m     \u001b[1;32mdef\u001b[0m \u001b[0mmainloop\u001b[0m\u001b[1;33m(\u001b[0m\u001b[0mself\u001b[0m\u001b[1;33m)\u001b[0m\u001b[1;33m:\u001b[0m\u001b[1;33m\u001b[0m\u001b[0m\n",
      "\u001b[1;32mC:\\Users\\Bohemian\\AppData\\Roaming\\Python\\Python35\\site-packages\\matplotlib\\backends\\backend_tkagg.py\u001b[0m in \u001b[0;36mmainloop\u001b[1;34m(self)\u001b[0m\n\u001b[0;32m     72\u001b[0m \u001b[1;32mclass\u001b[0m \u001b[0mShow\u001b[0m\u001b[1;33m(\u001b[0m\u001b[0mShowBase\u001b[0m\u001b[1;33m)\u001b[0m\u001b[1;33m:\u001b[0m\u001b[1;33m\u001b[0m\u001b[0m\n\u001b[0;32m     73\u001b[0m     \u001b[1;32mdef\u001b[0m \u001b[0mmainloop\u001b[0m\u001b[1;33m(\u001b[0m\u001b[0mself\u001b[0m\u001b[1;33m)\u001b[0m\u001b[1;33m:\u001b[0m\u001b[1;33m\u001b[0m\u001b[0m\n\u001b[1;32m---> 74\u001b[1;33m         \u001b[0mTk\u001b[0m\u001b[1;33m.\u001b[0m\u001b[0mmainloop\u001b[0m\u001b[1;33m(\u001b[0m\u001b[1;33m)\u001b[0m\u001b[1;33m\u001b[0m\u001b[0m\n\u001b[0m\u001b[0;32m     75\u001b[0m \u001b[1;33m\u001b[0m\u001b[0m\n\u001b[0;32m     76\u001b[0m \u001b[0mshow\u001b[0m \u001b[1;33m=\u001b[0m \u001b[0mShow\u001b[0m\u001b[1;33m(\u001b[0m\u001b[1;33m)\u001b[0m\u001b[1;33m\u001b[0m\u001b[0m\n",
      "\u001b[1;32mC:\\Users\\Bohemian\\Anaconda3\\lib\\tkinter\\__init__.py\u001b[0m in \u001b[0;36mmainloop\u001b[1;34m(n)\u001b[0m\n\u001b[0;32m    403\u001b[0m \u001b[1;32mdef\u001b[0m \u001b[0mmainloop\u001b[0m\u001b[1;33m(\u001b[0m\u001b[0mn\u001b[0m\u001b[1;33m=\u001b[0m\u001b[1;36m0\u001b[0m\u001b[1;33m)\u001b[0m\u001b[1;33m:\u001b[0m\u001b[1;33m\u001b[0m\u001b[0m\n\u001b[0;32m    404\u001b[0m     \u001b[1;34m\"\"\"Run the main loop of Tcl.\"\"\"\u001b[0m\u001b[1;33m\u001b[0m\u001b[0m\n\u001b[1;32m--> 405\u001b[1;33m     \u001b[0m_default_root\u001b[0m\u001b[1;33m.\u001b[0m\u001b[0mtk\u001b[0m\u001b[1;33m.\u001b[0m\u001b[0mmainloop\u001b[0m\u001b[1;33m(\u001b[0m\u001b[0mn\u001b[0m\u001b[1;33m)\u001b[0m\u001b[1;33m\u001b[0m\u001b[0m\n\u001b[0m\u001b[0;32m    406\u001b[0m \u001b[1;33m\u001b[0m\u001b[0m\n\u001b[0;32m    407\u001b[0m \u001b[0mgetint\u001b[0m \u001b[1;33m=\u001b[0m \u001b[0mint\u001b[0m\u001b[1;33m\u001b[0m\u001b[0m\n",
      "\u001b[1;31mKeyboardInterrupt\u001b[0m: "
     ],
     "output_type": "error"
    }
   ],
   "source": [
    "train_sizes, train_scores, test_scores=learning_curve(model,X_train,y_train,cv=5)\n",
    "plot_learning_curve(model, \"learning curve\", X_train,y_train)"
   ]
  },
  {
   "cell_type": "code",
   "execution_count": 91,
   "metadata": {
    "collapsed": true
   },
   "outputs": [
    {
     "name": "stdout",
     "output_type": "stream",
     "text": [
      "别！喝！咖！啡！了！最佳参数找到了亲！！：\n",
      "\n",
      "RandomForestClassifier(bootstrap=True, class_weight=None, criterion='gini',\n",
      "            max_depth=None, max_features=40, max_leaf_nodes=None,\n",
      "            min_samples_leaf=1, min_samples_split=2,\n",
      "            min_weight_fraction_leaf=0.0, n_estimators=500, n_jobs=1,\n",
      "            oob_score=False, random_state=None, verbose=0,\n",
      "            warm_start=False)\n",
      "\n",
      "得分分别是:\n",
      "\n",
      "-0.558 (+/-0.029) for {'n_estimators': 10, 'max_features': 20}\n",
      "-0.338 (+/-0.033) for {'n_estimators': 100, 'max_features': 20}\n",
      "-0.301 (+/-0.017) for {'n_estimators': 500, 'max_features': 20}\n",
      "-0.481 (+/-0.018) for {'n_estimators': 10, 'max_features': 30}\n",
      "-0.323 (+/-0.012) for {'n_estimators': 100, 'max_features': 30}\n",
      "-0.292 (+/-0.032) for {'n_estimators': 500, 'max_features': 30}\n",
      "-0.513 (+/-0.031) for {'n_estimators': 10, 'max_features': 40}\n",
      "-0.328 (+/-0.022) for {'n_estimators': 100, 'max_features': 40}\n",
      "-0.276 (+/-0.037) for {'n_estimators': 500, 'max_features': 40}\n",
      "\n"
     ]
    }
   ],
   "source": [
    "from sklearn.grid_search import GridSearchCV\n",
    "tuned_parameters = [{'n_estimators':[10,100,500], 'max_features':[20,30,40] }]   \n",
    "\n",
    "scores = ['r2']\n",
    "for score in scores:   \n",
    "    clf = GridSearchCV(RandomForestClassifier(), tuned_parameters, cv=5, scoring=score)\n",
    "    clf.fit(X_train, y_train)\n",
    "    print(\"正在计算最佳参数：\")\n",
    "    #best_estimator_ returns the best estimator chosen by the search\n",
    "    print(clf.best_estimator_)\n",
    "    print (\"\")\n",
    "    print(\"得分分别是:\")\n",
    "    print (\"\")\n",
    "    #grid_scores_的返回值:\n",
    "    #    * a dict of parameter settings\n",
    "    #    * the mean score over the cross-validation folds \n",
    "    #    * the list of scores for each fold\n",
    "    for params, mean_score, scores in clf.grid_scores_:\n",
    "        print(\"%0.3f (+/-%0.03f) for %r\"\n",
    "              % (mean_score, scores.std() / 2, params))\n",
    "    print (\"\")"
   ]
  },
  {
   "cell_type": "code",
   "execution_count": null,
   "metadata": {
    "collapsed": false
   },
   "outputs": [],
   "source": [
    "'''\n",
    "import matplotlib.pyplot as plt\n",
    "plt.title(\"I'm a scatter in train_data2.\")\n",
    "plt.xlim(xmax=len(data2),xmin=0)\n",
    "plt.ylim(ymax=100,ymin=0)\n",
    "plt.plot(cc.Idx,cc.Null_count,'ro')\n",
    "plt.show()\n",
    "'''"
   ]
  },
  {
   "cell_type": "code",
   "execution_count": null,
   "metadata": {
    "collapsed": false
   },
   "outputs": [],
   "source": [
    "'''\n",
    "test_data2=pd.read_csv('E:/kaggle数据/PPD/Test Set/PPD_Master_GBK_2_Test_Set.csv',encoding='gb18030')\n",
    "x = []\n",
    "y = []\n",
    "for i in range(0,len(test_data2)):\n",
    "    x.append(i)\n",
    "    y.append(test_data.loc[i,:].isnull().sum())\n",
    "Idx = pd.Series(x)\n",
    "Null_count = pd.Series(y)\n",
    "cc=pd.DataFrame({'Idx':Idx,'Null_count':Null_count})\n",
    "'''"
   ]
  },
  {
   "cell_type": "code",
   "execution_count": null,
   "metadata": {
    "collapsed": false
   },
   "outputs": [],
   "source": [
    "'''\n",
    "plt.title(\"I'm a scatter in test_data2.\")\n",
    "plt.xlim(xmax=len(test_data),xmin=0)\n",
    "plt.ylim(ymax=100,ymin=0)\n",
    "plt.plot(cc.Idx,cc.Null_count,'ro')\n",
    "plt.show()\n",
    "'''"
   ]
  },
  {
   "cell_type": "code",
   "execution_count": 127,
   "metadata": {
    "collapsed": false
   },
   "outputs": [],
   "source": [
    ""
   ]
  },
  {
   "cell_type": "code",
   "execution_count": null,
   "metadata": {
    "collapsed": false
   },
   "outputs": [],
   "source": [
    ""
   ]
  },
  {
   "cell_type": "code",
   "execution_count": null,
   "metadata": {
    "collapsed": true
   },
   "outputs": [],
   "source": [
    ""
   ]
  },
  {
   "cell_type": "code",
   "execution_count": null,
   "metadata": {
    "collapsed": false,
    "scrolled": true
   },
   "outputs": [],
   "source": [
    ""
   ]
  },
  {
   "cell_type": "code",
   "execution_count": null,
   "metadata": {
    "collapsed": false
   },
   "outputs": [],
   "source": [
    ""
   ]
  },
  {
   "cell_type": "code",
   "execution_count": null,
   "metadata": {
    "collapsed": false
   },
   "outputs": [],
   "source": [
    ""
   ]
  },
  {
   "cell_type": "code",
   "execution_count": null,
   "metadata": {
    "collapsed": false
   },
   "outputs": [],
   "source": [
    ""
   ]
  },
  {
   "cell_type": "code",
   "execution_count": null,
   "metadata": {
    "collapsed": true
   },
   "outputs": [],
   "source": [
    ""
   ]
  },
    {
   "cell_type": "code",
   "execution_count": null,
   "metadata": {
    "collapsed": false
   },
   "outputs": [],
   "source": [
    ""
   ]
  },
  {
   "cell_type": "code",
   "execution_count": null,
   "metadata": {
    "collapsed": false
   },
   "outputs": [],
   "source": [
    ""
   ]
  },
  {
   "cell_type": "code",
   "execution_count": null,
   "metadata": {
    "collapsed": false
   },
   "outputs": [],
   "source": [
    ""
   ]
  },
  {
   "cell_type": "code",
   "execution_count": null,
   "metadata": {
    "collapsed": false
   },
   "outputs": [],
   "source": [
    ""
   ]
  },
  {
   "cell_type": "code",
   "execution_count": null,
   "metadata": {
    "collapsed": false
   },
   "outputs": [],
   "source": [
    ""
   ]
  },
  {
   "cell_type": "code",
   "execution_count": null,
   "metadata": {
    "collapsed": false
   },
   "outputs": [],
   "source": [
    ""
   ]
  },
  {
   "cell_type": "code",
   "execution_count": null,
   "metadata": {
    "collapsed": true
   },
   "outputs": [],
   "source": [
    ""
   ]
  },
  {
   "cell_type": "code",
   "execution_count": null,
   "metadata": {
    "collapsed": true
   },
   "outputs": [],
   "source": [
    ""
   ]
  },
  {
   "cell_type": "code",
   "execution_count": null,
   "metadata": {
    "collapsed": false
   },
   "outputs": [],
   "source": [
    ""
   ]
  },
  {
   "cell_type": "code",
   "execution_count": null,
   "metadata": {
    "collapsed": false
   },
   "outputs": [],
   "source": [
    ""
   ]
  },
  {
   "cell_type": "code",
   "execution_count": null,
   "metadata": {
    "collapsed": false
   },
   "outputs": [],
   "source": [
    ""
   ]
  },
  {
   "cell_type": "code",
   "execution_count": null,
   "metadata": {
    "collapsed": true
   },
   "outputs": [],
   "source": [
    ""
   ]
  },
  {
   "cell_type": "code",
   "execution_count": null,
   "metadata": {
    "collapsed": false
   },
   "outputs": [],
   "source": [
    ""
   ]
  },
  {
   "cell_type": "code",
   "execution_count": null,
   "metadata": {
    "collapsed": false
   },
   "outputs": [],
   "source": [
    ""
   ]
  },
  {
   "cell_type": "code",
   "execution_count": null,
   "metadata": {
    "collapsed": true
   },
   "outputs": [],
   "source": [
    ""
   ]
  },
  {
   "cell_type": "code",
   "execution_count": null,
   "metadata": {
    "collapsed": false
   },
   "outputs": [],
   "source": [
    ""
   ]
  },
  {
   "cell_type": "code",
   "execution_count": null,
   "metadata": {
    "collapsed": false
   },
   "outputs": [],
   "source": [
    ""
   ]
  },
  {
   "cell_type": "code",
   "execution_count": null,
   "metadata": {
    "collapsed": false
   },
   "outputs": [],
   "source": [
    ""
   ]
  },
  {
   "cell_type": "code",
   "execution_count": null,
   "metadata": {
    "collapsed": false,
    "scrolled": true
   },
   "outputs": [],
   "source": [
    ""
   ]
  },
  {
   "cell_type": "code",
   "execution_count": null,
   "metadata": {
    "collapsed": false
   },
   "outputs": [],
   "source": [
    ""
   ]
  },
  {
   "cell_type": "code",
   "execution_count": null,
   "metadata": {
    "collapsed": false,
    "scrolled": true
   },
   "outputs": [],
   "source": [
    ""
   ]
  },
  {
   "cell_type": "code",
   "execution_count": 76,
   "metadata": {
    "collapsed": true
   },
   "outputs": [
    {
     "name": "stdout",
     "output_type": "stream",
     "text": [
      "Automatically created module for IPython interactive environment\n"
     ]
    },
    {
     "ename": "KeyboardInterrupt",
     "evalue": "",
     "traceback": [
      "\u001b[1;31m---------------------------------------------------------------------------\u001b[0m",
      "\u001b[1;31mKeyboardInterrupt\u001b[0m                         Traceback (most recent call last)",
      "\u001b[1;32m<ipython-input-76-7ec421f9a4fc>\u001b[0m in \u001b[0;36m<module>\u001b[1;34m()\u001b[0m\n\u001b[0;32m     51\u001b[0m \u001b[0mplt\u001b[0m\u001b[1;33m.\u001b[0m\u001b[0mlegend\u001b[0m\u001b[1;33m(\u001b[0m\u001b[1;33m)\u001b[0m\u001b[1;33m\u001b[0m\u001b[0m\n\u001b[0;32m     52\u001b[0m \u001b[0mplt\u001b[0m\u001b[1;33m.\u001b[0m\u001b[0mtight_layout\u001b[0m\u001b[1;33m(\u001b[0m\u001b[1;33m)\u001b[0m\u001b[1;33m\u001b[0m\u001b[0m\n\u001b[1;32m---> 53\u001b[1;33m \u001b[0mplt\u001b[0m\u001b[1;33m.\u001b[0m\u001b[0mshow\u001b[0m\u001b[1;33m(\u001b[0m\u001b[1;33m)\u001b[0m\u001b[1;33m\u001b[0m\u001b[0m\n\u001b[0m",
      "\u001b[1;32mC:\\Users\\Bohemian\\AppData\\Roaming\\Python\\Python35\\site-packages\\matplotlib\\pyplot.py\u001b[0m in \u001b[0;36mshow\u001b[1;34m(*args, **kw)\u001b[0m\n\u001b[0;32m    250\u001b[0m     \"\"\"\n\u001b[0;32m    251\u001b[0m     \u001b[1;32mglobal\u001b[0m \u001b[0m_show\u001b[0m\u001b[1;33m\u001b[0m\u001b[0m\n\u001b[1;32m--> 252\u001b[1;33m     \u001b[1;32mreturn\u001b[0m \u001b[0m_show\u001b[0m\u001b[1;33m(\u001b[0m\u001b[1;33m*\u001b[0m\u001b[0margs\u001b[0m\u001b[1;33m,\u001b[0m \u001b[1;33m**\u001b[0m\u001b[0mkw\u001b[0m\u001b[1;33m)\u001b[0m\u001b[1;33m\u001b[0m\u001b[0m\n\u001b[0m\u001b[0;32m    253\u001b[0m \u001b[1;33m\u001b[0m\u001b[0m\n\u001b[0;32m    254\u001b[0m \u001b[1;33m\u001b[0m\u001b[0m\n",
      "\u001b[1;32mC:\\Users\\Bohemian\\AppData\\Roaming\\Python\\Python35\\site-packages\\matplotlib\\backend_bases.py\u001b[0m in \u001b[0;36m__call__\u001b[1;34m(self, block)\u001b[0m\n\u001b[0;32m    190\u001b[0m \u001b[1;33m\u001b[0m\u001b[0m\n\u001b[0;32m    191\u001b[0m         \u001b[1;32mif\u001b[0m \u001b[1;32mnot\u001b[0m \u001b[0mis_interactive\u001b[0m\u001b[1;33m(\u001b[0m\u001b[1;33m)\u001b[0m \u001b[1;32mor\u001b[0m \u001b[0mget_backend\u001b[0m\u001b[1;33m(\u001b[0m\u001b[1;33m)\u001b[0m \u001b[1;33m==\u001b[0m \u001b[1;34m'WebAgg'\u001b[0m\u001b[1;33m:\u001b[0m\u001b[1;33m\u001b[0m\u001b[0m\n\u001b[1;32m--> 192\u001b[1;33m             \u001b[0mself\u001b[0m\u001b[1;33m.\u001b[0m\u001b[0mmainloop\u001b[0m\u001b[1;33m(\u001b[0m\u001b[1;33m)\u001b[0m\u001b[1;33m\u001b[0m\u001b[0m\n\u001b[0m\u001b[0;32m    193\u001b[0m \u001b[1;33m\u001b[0m\u001b[0m\n\u001b[0;32m    194\u001b[0m     \u001b[1;32mdef\u001b[0m \u001b[0mmainloop\u001b[0m\u001b[1;33m(\u001b[0m\u001b[0mself\u001b[0m\u001b[1;33m)\u001b[0m\u001b[1;33m:\u001b[0m\u001b[1;33m\u001b[0m\u001b[0m\n",
      "\u001b[1;32mC:\\Users\\Bohemian\\AppData\\Roaming\\Python\\Python35\\site-packages\\matplotlib\\backends\\backend_tkagg.py\u001b[0m in \u001b[0;36mmainloop\u001b[1;34m(self)\u001b[0m\n\u001b[0;32m     72\u001b[0m \u001b[1;32mclass\u001b[0m \u001b[0mShow\u001b[0m\u001b[1;33m(\u001b[0m\u001b[0mShowBase\u001b[0m\u001b[1;33m)\u001b[0m\u001b[1;33m:\u001b[0m\u001b[1;33m\u001b[0m\u001b[0m\n\u001b[0;32m     73\u001b[0m     \u001b[1;32mdef\u001b[0m \u001b[0mmainloop\u001b[0m\u001b[1;33m(\u001b[0m\u001b[0mself\u001b[0m\u001b[1;33m)\u001b[0m\u001b[1;33m:\u001b[0m\u001b[1;33m\u001b[0m\u001b[0m\n\u001b[1;32m---> 74\u001b[1;33m         \u001b[0mTk\u001b[0m\u001b[1;33m.\u001b[0m\u001b[0mmainloop\u001b[0m\u001b[1;33m(\u001b[0m\u001b[1;33m)\u001b[0m\u001b[1;33m\u001b[0m\u001b[0m\n\u001b[0m\u001b[0;32m     75\u001b[0m \u001b[1;33m\u001b[0m\u001b[0m\n\u001b[0;32m     76\u001b[0m \u001b[0mshow\u001b[0m \u001b[1;33m=\u001b[0m \u001b[0mShow\u001b[0m\u001b[1;33m(\u001b[0m\u001b[1;33m)\u001b[0m\u001b[1;33m\u001b[0m\u001b[0m\n",
      "\u001b[1;32mC:\\Users\\Bohemian\\Anaconda3\\lib\\tkinter\\__init__.py\u001b[0m in \u001b[0;36mmainloop\u001b[1;34m(n)\u001b[0m\n\u001b[0;32m    403\u001b[0m \u001b[1;32mdef\u001b[0m \u001b[0mmainloop\u001b[0m\u001b[1;33m(\u001b[0m\u001b[0mn\u001b[0m\u001b[1;33m=\u001b[0m\u001b[1;36m0\u001b[0m\u001b[1;33m)\u001b[0m\u001b[1;33m:\u001b[0m\u001b[1;33m\u001b[0m\u001b[0m\n\u001b[0;32m    404\u001b[0m     \u001b[1;34m\"\"\"Run the main loop of Tcl.\"\"\"\u001b[0m\u001b[1;33m\u001b[0m\u001b[0m\n\u001b[1;32m--> 405\u001b[1;33m     \u001b[0m_default_root\u001b[0m\u001b[1;33m.\u001b[0m\u001b[0mtk\u001b[0m\u001b[1;33m.\u001b[0m\u001b[0mmainloop\u001b[0m\u001b[1;33m(\u001b[0m\u001b[0mn\u001b[0m\u001b[1;33m)\u001b[0m\u001b[1;33m\u001b[0m\u001b[0m\n\u001b[0m\u001b[0;32m    406\u001b[0m \u001b[1;33m\u001b[0m\u001b[0m\n\u001b[0;32m    407\u001b[0m \u001b[0mgetint\u001b[0m \u001b[1;33m=\u001b[0m \u001b[0mint\u001b[0m\u001b[1;33m\u001b[0m\u001b[0m\n",
      "\u001b[1;31mKeyboardInterrupt\u001b[0m: "
     ],
     "output_type": "error"
    }
   ],
   "source": [
    ""
   ]
  },
  {
   "cell_type": "code",
   "execution_count": null,
   "metadata": {
    "collapsed": true
   },
   "outputs": [],
   "source": [
    ""
   ]
  },
  {
   "cell_type": "code",
   "execution_count": 85,
   "metadata": {
    "collapsed": false
   },
   "outputs": [
    {
     "data": {
      "text/plain": [
       "dtype('int32')"
      ]
     },
     "execution_count": 85,
     "metadata": {},
     "output_type": "execute_result"
    }
   ],
   "source": [
    ""
   ]
  },
  {
   "cell_type": "code",
   "execution_count": 61,
   "metadata": {
    "collapsed": false
   },
   "outputs": [
    {
     "name": "stdout",
     "output_type": "stream",
     "text": [
      "Automatically created module for IPython interactive environment\n"
     ]
    }
   ],
   "source": [
    ""
   ]
  },
  {
   "cell_type": "code",
   "execution_count": 67,
   "metadata": {
    "collapsed": false
   },
   "outputs": [
    {
     "data": {
      "text/plain": [
       "(40, 20)"
      ]
     },
     "execution_count": 67,
     "metadata": {},
     "output_type": "execute_result"
    }
   ],
   "source": [
    ""
   ]
  },
  {
   "cell_type": "code",
   "execution_count": null,
   "metadata": {
    "collapsed": true
   },
   "outputs": [],
   "source": [
    ""
   ]
  }
 ],
 "metadata": {
  "anaconda-cloud": {},
  "kernelspec": {
   "display_name": "Python [Root]",
   "language": "python",
   "name": "Python [Root]"
  },
  "language_info": {
   "codemirror_mode": {
    "name": "ipython",
    "version": 3.0
   },
   "file_extension": ".py",
   "mimetype": "text/x-python",
   "name": "python",
   "nbconvert_exporter": "python",
   "pygments_lexer": "ipython3",
   "version": "3.5.2"
  }
 },
 "nbformat": 4,
 "nbformat_minor": 0
}
